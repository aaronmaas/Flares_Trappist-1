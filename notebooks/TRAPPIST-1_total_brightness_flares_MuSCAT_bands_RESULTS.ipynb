{
 "cells": [
  {
   "cell_type": "code",
   "execution_count": 1,
   "id": "5a370535",
   "metadata": {},
   "outputs": [],
   "source": [
    "import numpy as np\n",
    "import matplotlib.pyplot as plt"
   ]
  },
  {
   "cell_type": "code",
   "execution_count": 2,
   "id": "7d6567cb",
   "metadata": {},
   "outputs": [],
   "source": [
    "#apparent brightness and error at Earth of TRAPPIST-1\n",
    "trappist = np.genfromtxt(\"../results/values/brightness_TRAPPIST-1_withCCDeffeciency.txt\", delimiter= \",\", skip_header=1)\n",
    "#Flare1 apparent brightness and error\n",
    "flare1 = np.genfromtxt(\"../results/values/brightness_flare1_TRAPPIST-1.txt\", delimiter= \",\", skip_header=1)\n",
    "#Flare2 apparent brightness and error\n",
    "flare2 = np.genfromtxt(\"../results/values/brightness_flare2_TRAPPIST-1.txt\", delimiter= \",\", skip_header=1)"
   ]
  },
  {
   "cell_type": "code",
   "execution_count": 3,
   "id": "d4b95d61",
   "metadata": {},
   "outputs": [],
   "source": [
    "brightness_TRAP, brightnesserror_TRAP = trappist[0], trappist[1]\n",
    "brightness_flare1, brightnesserror_flare1 = flare1[0], flare1[1]\n",
    "brightness_flare2, brightnesserror_flare2 = flare2[0], flare2[1]"
   ]
  },
  {
   "cell_type": "code",
   "execution_count": 4,
   "id": "f6b7a1ca",
   "metadata": {},
   "outputs": [],
   "source": [
    "#Flare 1 brighntess total + Gaussian Error Propagation\n",
    "brightnessflaretotal_flare1 = brightness_flare1 * brightness_TRAP\n",
    "brightnesserrortotal_flare1 = np.sqrt((brightness_TRAP*brightnesserror_flare1)**2 + \\\n",
    "                                         (brightness_flare1  * brightnesserror_TRAP)**2)"
   ]
  },
  {
   "cell_type": "code",
   "execution_count": 5,
   "id": "0b985962",
   "metadata": {},
   "outputs": [],
   "source": [
    "#Flare 1 brighntess total + Gaussian Error Propagation\n",
    "brightnessflaretotal_flare2 = brightness_flare2 * brightness_TRAP\n",
    "brightnesserrortotal_flare2 = np.sqrt((brightness_TRAP*brightnesserror_flare2)**2 + \\\n",
    "                                         (brightness_flare2  * brightnesserror_TRAP)**2)"
   ]
  },
  {
   "cell_type": "code",
   "execution_count": 6,
   "id": "bfa6621a",
   "metadata": {},
   "outputs": [],
   "source": [
    "with open(\"../results/values/brightnesstot_flare1_TRAPPIST-1.txt\", \"w+\") as f:\n",
    "    f.write(\"g , r , i, z, units: [erg cm-2 s-1] \\n\")\n",
    "    f.write(str(brightnessflaretotal_flare1[0])+ ',' +  str(brightnessflaretotal_flare1[1])+ ',' + \\\n",
    "            str(brightnessflaretotal_flare1[2])+ ',' + str(brightnessflaretotal_flare1[3]) + '\\n' )\n",
    "    f.write(str(brightnesserrortotal_flare1[0])+ ',' +  str(brightnesserrortotal_flare1[1])+ ',' + \\\n",
    "            str(brightnesserrortotal_flare1[2])+ ',' + str(brightnesserrortotal_flare1[3]) )"
   ]
  },
  {
   "cell_type": "code",
   "execution_count": 7,
   "id": "08cee7d1",
   "metadata": {},
   "outputs": [],
   "source": [
    "with open(\"../results/values/brightnesstot_flare2_TRAPPIST-1.txt\", \"w+\") as f:\n",
    "    f.write(\"g , r , i, z, units: [erg cm-2 s-1] \\n\")\n",
    "    f.write(str(brightnessflaretotal_flare2[0])+ ',' +  str(brightnessflaretotal_flare2[1])+ ',' + \\\n",
    "            str(brightnessflaretotal_flare2[2])+ ',' + str(brightnessflaretotal_flare2[3]) + '\\n' )\n",
    "    f.write(str(brightnesserrortotal_flare2[0])+ ',' +  str(brightnesserrortotal_flare2[1])+ ',' + \\\n",
    "            str(brightnesserrortotal_flare2[2])+ ',' + str(brightnesserrortotal_flare2[3]) )"
   ]
  },
  {
   "cell_type": "code",
   "execution_count": 22,
   "id": "8eb47caa",
   "metadata": {},
   "outputs": [
    {
     "data": {
      "text/plain": [
       "(array([17.70862563, 13.04190585,  6.66482574,  2.64193896]),\n",
       " array([0.88657174, 0.67577805, 0.38821349, 0.40206917]))"
      ]
     },
     "execution_count": 22,
     "metadata": {},
     "output_type": "execute_result"
    }
   ],
   "source": [
    "#Alternatie using inbuild function:\n",
    "from funcs._brightness_luminosity import brightness_flare \n",
    "#for Flare 1 \n",
    "brightness_flare(brightness_flare1, brightness_TRAP, brightnesserror_flare1, brightnesserror_TRAP)\n"
   ]
  },
  {
   "cell_type": "code",
   "execution_count": null,
   "id": "a31d5c57",
   "metadata": {},
   "outputs": [],
   "source": []
  }
 ],
 "metadata": {
  "kernelspec": {
   "display_name": "Python 3 (ipykernel)",
   "language": "python",
   "name": "python3"
  },
  "language_info": {
   "codemirror_mode": {
    "name": "ipython",
    "version": 3
   },
   "file_extension": ".py",
   "mimetype": "text/x-python",
   "name": "python",
   "nbconvert_exporter": "python",
   "pygments_lexer": "ipython3",
   "version": "3.8.8"
  }
 },
 "nbformat": 4,
 "nbformat_minor": 5
}
