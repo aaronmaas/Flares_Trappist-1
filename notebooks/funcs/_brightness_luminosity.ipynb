{
 "cells": [
  {
   "cell_type": "code",
   "execution_count": 1,
   "id": "897d2669",
   "metadata": {},
   "outputs": [],
   "source": [
    "\n",
    "import numpy as np\n",
    "\n",
    "\n",
    "def brightness_star(spectrum_star,spectrumerror_star, T_star, Terror_star, limit, limiterror, model = \"None\"):\n",
    "    '''\n",
    "    Apparent Brightness calculater for star.\n",
    "\n",
    "    Parameters\n",
    "    -------------\n",
    "    spectrum_star : 1-d array\n",
    "        The spectrum of the star given as a fluxdensity on top of Earths atmosphere without \n",
    "        atmospheric extinction [Erg/s/cm^2/A]\n",
    "    spectrumerror_star: 1-d array\n",
    "        The error of the spectrum of the star given as error of the fluxdensity on top of the atmsophere without \n",
    "        atmospheric extinction [Erg/s/cm^2/A]\n",
    "    T_star: float\n",
    "        Blackbody temperature of the star [K]\n",
    "    Terror_star: float\n",
    "        Blackbody temperature uncertainty of the star [K]\n",
    "    limit: float\n",
    "        Indices for limits in the spectrum_star array (for slicing in the passbands)\n",
    "    limiterror: float\n",
    "        Indices for the limits in the spectrumerror_star array\n",
    "    model: string\n",
    "        deafault \"None\"; \n",
    "\n",
    "        \n",
    "    Return \n",
    "    ----------\n",
    "    1-d array\n",
    "        brightness of flare on top of Earth atmosphere\n",
    "    1-d array\n",
    "        error on brightness of flare on top of Earth atmosphere\n",
    "    '''\n",
    "    if model == \"blackbody\":\n",
    "        #sum model\n",
    "        brightness_star = np.asarray([np.nansum(brightness_othick_(wavelength_TRAP*1e-10, 0,0, T_star)[limit[i][0]:limit[i][1]]) for i in range(len(dfs)) ])\n",
    "        T_e = T_error + T_star\n",
    "        brightnesserror_star = np.asarray([np.nansum(brightness_othick_(wavelength_TRAP*1e-10, 0,0, T_e)[limit[i][0]:limit[i][1]]) for i in range(len(dfs)) ])\n",
    "        brightnesserror_star = brightnesserror_star - brightness_star\n",
    "    else:\n",
    "        #brighntess out of spectrum\n",
    "        brightness_star = np.asarray([np.nansum(flux_TRAP[limit[i][0]:limit[i][1]]) for i in range(len(dfs)) ] ) * 1e7 #erg Angstrom cm^-2  conversion constant \n",
    "        brightnesserror_star = np.asarray([np.nansum(flux_TRAP_error[limiterror[i][0]:limiterror[i][1]]) for i in range(len(dfs)) ] ) * 1e7\n",
    "    return brightness_star, brightnesserror_star"
   ]
  },
  {
   "cell_type": "code",
   "execution_count": null,
   "id": "945d8957",
   "metadata": {},
   "outputs": [],
   "source": []
  }
 ],
 "metadata": {
  "kernelspec": {
   "display_name": "Python 3",
   "language": "python",
   "name": "python3"
  },
  "language_info": {
   "codemirror_mode": {
    "name": "ipython",
    "version": 3
   },
   "file_extension": ".py",
   "mimetype": "text/x-python",
   "name": "python",
   "nbconvert_exporter": "python",
   "pygments_lexer": "ipython3",
   "version": "3.8.8"
  }
 },
 "nbformat": 4,
 "nbformat_minor": 5
}
