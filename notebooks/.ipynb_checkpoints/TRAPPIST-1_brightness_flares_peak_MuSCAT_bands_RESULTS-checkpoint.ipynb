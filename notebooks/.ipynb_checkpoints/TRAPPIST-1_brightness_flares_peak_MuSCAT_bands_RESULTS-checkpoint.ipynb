{
 "cells": [
  {
   "cell_type": "code",
   "execution_count": 1,
   "id": "a2de3223",
   "metadata": {},
   "outputs": [],
   "source": [
    "import numpy as np \n",
    "from scipy.integrate import trapz as tp \n",
    "from funcs.aflare1 import aflare1"
   ]
  },
  {
   "cell_type": "code",
   "execution_count": 2,
   "id": "e3e40b92",
   "metadata": {},
   "outputs": [],
   "source": [
    "import pandas as pd\n",
    "#load data frames with the flare parameters of davenport model (ampl, fwhm, tpeak)\n",
    "#fitted by emcee approach McKey 2013 \n",
    "df_g = pd.read_pickle(\"/home/aaronmaas/Flare_Notebooks/flare_tables/trappist_1/g_filter/flareprofiles_g.pkl\")\n",
    "df_r = pd.read_pickle(\"/home/aaronmaas/Flare_Notebooks/flare_tables/trappist_1/r_filter/flareprofiles_r.pkl\")\n",
    "df_i = pd.read_pickle(\"/home/aaronmaas/Flare_Notebooks/flare_tables/trappist_1/i_filter/flareprofiles_i.pkl\")\n",
    "df_z = pd.read_pickle(\"/home/aaronmaas/Flare_Notebooks/flare_tables/trappist_1/z_filter/flareprofiles_z.pkl\")\n",
    "\n",
    "df_g1 = pd.read_pickle(\"/home/aaronmaas/Flare_Notebooks/flare_tables/trappist_1/g_filter/flareprofiles_g.pkl\")\n",
    "#dataframe for the different flares and observation time\n",
    "dfs = [df_g,df_r,df_i,df_z]\n",
    "timeobs = [np.linspace(df_g1[\"timestart\"][0],df_g1[\"timestop\"][0],2000), \\\n",
    "           np.linspace(df_g1[\"timestart\"][1],df_g1[\"timestop\"][1],2000)]"
   ]
  },
  {
   "cell_type": "code",
   "execution_count": 3,
   "id": "872f2fb5",
   "metadata": {},
   "outputs": [],
   "source": [
    "brightness, brightnesserror = [],[]\n",
    "\n",
    "#x = aflare1(timeobs2, df_g.Tpeak[1], df_g.Fwhm[1], df_g.Ampl[1])\n",
    "#y = 1/2*np.max(aflare1(timeobs2, df_g.Tpeak[1], df_g.Fwhm[1], df_g.Ampl[1]))\n",
    "\n",
    "#timeobs2[x >= y], aflare1(timeobs2[x >= y]\n",
    "\n",
    "\n",
    "#calculation of percentage apparent brightness change for all flare events in the dataframe\n",
    "#above shown calculation implemented\n",
    "i = 0\n",
    "for df in dfs:\n",
    "    for flare in range(len(timeobs)): \n",
    "        m1 = aflare1(timeobs[flare], df.Tpeak[flare], df.Fwhm[flare], df.Ampl[flare])     \n",
    "        m2 = 1/2*np.max(aflare1(timeobs[flare], df.Tpeak[flare], df.Fwhm[flare], df.Ampl[flare]))\n",
    "        mask = m1 >= m2\n",
    "        #print(m2)\n",
    "        timeobs1 = timeobs[flare]\n",
    "        timeobs_peak = timeobs1[mask]  \n",
    "        #print(len(timeobs_peak))\n",
    "        brightness.append(tp(aflare1(timeobs_peak, df.Tpeak[flare], df.Fwhm[flare], df.Ampl[flare])) *len(timeobs_peak) ) \n",
    "        #not stylish, conservative limit. I take the maximum from the non-symmetric FWHM and amplitude\n",
    "        #values fitted;  \n",
    "        brightnesserror.append(tp(aflare1(timeobs_peak, df.Tpeak[flare], \\\n",
    "                 np.max([df.sFwhm[flare],df.sfwhm[flare]]), np.max([df.sAmpl[flare],df.sampl[flare]]))) *len(timeobs_peak) ) \n",
    "    i = i + 1 \n",
    "\n",
    "#every second entry belongs to the same flare therefore slice [0::2]\n",
    "brightness = np.asarray(brightness)\n",
    "brightnesserror = np.asarray(brightnesserror)"
   ]
  },
  {
   "cell_type": "code",
   "execution_count": 26,
   "id": "16bdf255",
   "metadata": {},
   "outputs": [],
   "source": [
    "############ Time of the peaks must enter my calculation!"
   ]
  },
  {
   "cell_type": "code",
   "execution_count": 4,
   "id": "b563bad6",
   "metadata": {},
   "outputs": [
    {
     "data": {
      "text/plain": [
       "<ErrorbarContainer object of 3 artists>"
      ]
     },
     "execution_count": 4,
     "metadata": {},
     "output_type": "execute_result"
    },
    {
     "data": {
      "image/png": "[encoded data removed]",
      "text/plain": [
       "<Figure size 432x288 with 1 Axes>"
      ]
     },
     "metadata": {
      "needs_background": "light"
     },
     "output_type": "display_data"
    }
   ],
   "source": [
    "import matplotlib.pyplot as plt \n",
    "\n",
    "plt.errorbar([1,2,3,4],brightness[0::2], yerr = brightnesserror[0::2])"
   ]
  },
  {
   "cell_type": "code",
   "execution_count": 5,
   "id": "8f9540a2",
   "metadata": {},
   "outputs": [],
   "source": [
    "with open(\"../results/values/brightness_peak_flare1_TRAPPIST-1.txt\", \"w+\") as f:\n",
    "    f.write(\"g , r , i, z, unit: [None] \\n\")\n",
    "    f.write(str(brightness[0])+ ',' +  str(brightness[2])+ ',' + \\\n",
    "            str(brightness[4])+ ',' + str(brightness[6]) + '\\n' )\n",
    "    f.write(str(brightnesserror[0])+ ',' +  str(brightnesserror[2])+ ',' + \\\n",
    "            str(brightnesserror[4])+ ',' + str(brightnesserror[6]) + '\\n' )\n",
    "    \n"
   ]
  },
  {
   "cell_type": "code",
   "execution_count": 6,
   "id": "60a51b70",
   "metadata": {},
   "outputs": [],
   "source": [
    "with open(\"../results/values/brightness_peak_flare2_TRAPPIST-1.txt\", \"w+\") as f:\n",
    "    f.write(\"g , r , i, z, unit: [None] \\n\")\n",
    "    f.write(str(brightness[1])+ ',' +  str(brightness[3])+ ',' + \\\n",
    "            str(brightness[5])+ ',' + str(brightness[7]) + '\\n' )\n",
    "    f.write(str(brightnesserror[1])+ ',' +  str(brightnesserror[3])+ ',' + \\\n",
    "            str(brightnesserror[5])+ ',' + str(brightnesserror[7]) + '\\n' )\n",
    "    \n"
   ]
  },
  {
   "cell_type": "code",
   "execution_count": 7,
   "id": "176d1169",
   "metadata": {},
   "outputs": [
    {
     "data": {
      "text/plain": [
       "(array([4.52506984e+02, 1.42712541e+01, 1.51050116e+02, 6.05080978e+00,\n",
       "        1.01800624e+01, 4.24348275e-01, 2.82384713e+00, 5.77041610e-02]),\n",
       " array([1.14871321, 0.10173095, 2.05387732, 0.10320362, 0.30418498,\n",
       "        0.02984079, 0.41842965, 3.58541287]))"
      ]
     },
     "execution_count": 7,
     "metadata": {},
     "output_type": "execute_result"
    }
   ],
   "source": [
    "# Alternative using inbuild function, \n",
    "\n",
    "#not ready again!\n",
    "\n",
    "from funcs._brightness_luminosity import brightnessnorm_flare\n",
    "#gives brightness of the flare in normalized brightness and brightness error\n",
    "brightnessnorm_flare(timeobs,dfs)"
   ]
  },
  {
   "cell_type": "markdown",
   "id": "761f8e1f",
   "metadata": {},
   "source": [
    "# ----------------------------------------- Not needed at the moment -------------------------"
   ]
  },
  {
   "cell_type": "code",
   "execution_count": null,
   "id": "274b6048",
   "metadata": {},
   "outputs": [],
   "source": [
    "brightness, brightnesserror = [],[]\n",
    "\n",
    "#calculation of apparent brightness for all flare events in the dataframe\n",
    "#above shown calculation implemented\n",
    "i = 0\n",
    "for df in dfs:\n",
    "    for flare in range(len(timeobs)):\n",
    "        #time where observation is different then zero\n",
    "        #N = np.count_nonzero(aflare1(timeobs[flare], df.Tpeak[flare], df.Fwhm[flare], df.Ampl[flare]))\n",
    "        timetime = timeobs[flare][aflare1(timeobs[flare], df.Tpeak[flare], df.Fwhm[flare], df.Ampl[flare]) > 0]\n",
    "        #T = timetime[-1] - timetime[0] \n",
    "        #brightness of flare in bandpass devided by total flare time, to get rid of time unit\n",
    "        brightness.append(tp(aflare1(timeobs[flare], df.Tpeak[flare], df.Fwhm[flare], df.Ampl[flare]))  ) #1/T\n",
    "        brightnesserror.append(tp(aflare1(timeobs[flare], df.Tpeak[flare], \\\n",
    "                 np.max([df.sFwhm[flare],df.sfwhm[flare]]), np.max([df.sAmpl[flare],df.sampl[flare]]))) ) #1/T\n",
    "    i = i + 1 \n",
    "\n",
    "#every second entry belongs to the same flare therefore slice [0::2]\n",
    "brightness = np.asarray(brightness)\n",
    "brightnesserror = np.asarray(brightnesserror)"
   ]
  },
  {
   "cell_type": "code",
   "execution_count": null,
   "id": "f73f0940",
   "metadata": {},
   "outputs": [],
   "source": [
    "'''\n",
    "\n",
    "Notes: \n",
    "\n",
    "- in funcs brightness luminosity; brightnessnorm_flare does not calculate correctly at the moment because\n",
    "of recent change in calculation\n",
    "- review calculation of brightness!\n",
    "\n",
    "\n",
    "'''"
   ]
  }
 ],
 "metadata": {
  "kernelspec": {
   "display_name": "Python 3 (ipykernel)",
   "language": "python",
   "name": "python3"
  },
  "language_info": {
   "codemirror_mode": {
    "name": "ipython",
    "version": 3
   },
   "file_extension": ".py",
   "mimetype": "text/x-python",
   "name": "python",
   "nbconvert_exporter": "python",
   "pygments_lexer": "ipython3",
   "version": "3.8.8"
  }
 },
 "nbformat": 4,
 "nbformat_minor": 5
}
