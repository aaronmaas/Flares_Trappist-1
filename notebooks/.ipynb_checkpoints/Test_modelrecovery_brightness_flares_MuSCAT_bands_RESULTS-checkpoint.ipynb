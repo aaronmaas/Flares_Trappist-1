{
 "cells": [
  {
   "cell_type": "code",
   "execution_count": 50,
   "id": "a2de3223",
   "metadata": {},
   "outputs": [],
   "source": [
    "import numpy as np \n",
    "import pandas as pd\n",
    "from scipy.integrate import trapz as tp \n",
    "from funcs.aflare1 import aflare1\n",
    "from funcs.blackbody_model import _brightness_mod"
   ]
  },
  {
   "cell_type": "code",
   "execution_count": 51,
   "id": "329d4e41",
   "metadata": {},
   "outputs": [],
   "source": [
    "#load muscat response\n",
    "muscat = pd.read_csv(\"../data/MuSCAT2_response/MuSCAT2_response.csv\")\n",
    "\n",
    "#fill NAN add lamb column\n",
    "muscat = muscat.fillna(0) \n",
    "muscat[\"lamb\"] = muscat.wavelength*1e1   #Angstrom\n",
    "wavelength = muscat.wavelength * 1e-9"
   ]
  },
  {
   "cell_type": "code",
   "execution_count": 52,
   "id": "18fe057f",
   "metadata": {},
   "outputs": [],
   "source": [
    "#load caluclated apparent brightness for trappist-1 and SED from trappist1 (Wilson et al 2021)\n",
    "\n",
    "trappist = np.genfromtxt(\"../results/values/brightness_TRAPPIST-1.txt\", delimiter= \",\", skip_header=1)\n",
    "trappist_SED = np.genfromtxt(\"../data/TRAPPIST1_Semimodel_Wilson/TRAPPIST-1_model_const_res_v07.ecsv\")\n",
    "#trappistflux_M2 = np.genfromtxt(\"../results/values/brightness_TRAPPIST-1_withCCDeffeciency.txt\", delimiter= \",\", skip_header=1)"
   ]
  },
  {
   "cell_type": "code",
   "execution_count": 53,
   "id": "973cf4f7",
   "metadata": {},
   "outputs": [],
   "source": [
    "wavelength_SED, flux_SED = trappist_SED[:,0]*1e-10, trappist_SED[:,1]\n",
    "\n",
    "#flux is in erg cm-2 -s A\n",
    "\n",
    "#Import M2 response, passband limits\n",
    "iters = [\"g\", \"r\", \"i\", \"z\"]\n",
    "limit, wavelength_M2, response_M2 = [], [], []\n",
    "\n",
    "for i in iters: \n",
    "    #limit are the limits of the passband in wavelength \n",
    "    limit.append(np.load(\"../data/MuSCAT2_response/MuSCAT2_limit_{}.npy\".format(str(i))))\n",
    "    wavelength_M2.append(np.load(\"../data/MuSCAT2_response/MuSCAT2_wavelength_{}.npy\".format(str(i))))\n",
    "    response_M2.append(np.load(\"../data/MuSCAT2_response/MuSCAT2_response_{}_bandpass.npy\".format(str(i))))"
   ]
  },
  {
   "cell_type": "code",
   "execution_count": 54,
   "id": "e0c0da77",
   "metadata": {},
   "outputs": [],
   "source": [
    "import astropy.units as u \n",
    "flux_SED = flux_SED * u.erg * u.s**(-1) *u.cm**(-2) * u.Angstrom**(-1)\n",
    "flux_SED = flux_SED.to(\"W m^-3\")\n",
    "flux_SED = flux_SED.value\n",
    "\n",
    "import astropy.constants as ca \n",
    "t_star = 2648 #[K] #Wilson et al 2021\n",
    "r_star = 0.1192 * ca.R_sun.value\n",
    "dist_star = dist_TRAP = 3.835084e+17 #[m]"
   ]
  },
  {
   "cell_type": "code",
   "execution_count": 29,
   "id": "b7930211",
   "metadata": {},
   "outputs": [],
   "source": [
    "def _brightness_mod(wavelength_tot, limit, T_flare, a, fluxdensity_tot, T_star, R_star, dist_star, model = \"thick\"):\n",
    "    \n",
    "    '''\n",
    "    Modified brightness calculator for every passband. It summs the brightness in the given limits. \n",
    "    So for Muscat we get four summed points. The model uses an optical thick approach. \n",
    "\n",
    "    Parameters\n",
    "    -------------\n",
    "    wavelength_tot : 1-d array\n",
    "        total wavelength array to be sliced into passband contributions by limit\n",
    "    limit: mx2-array\n",
    "        m is the number of passbands, 2 because two boarders \n",
    "    T_flare: float\n",
    "        Flare temperature [K]\n",
    "    a: float\n",
    "        Fraction of Radius of the star asociate with flaring area. \n",
    "    fluxdensity_tot: 1-d array\n",
    "        total fluxdensity of the star given [W/m^3] \n",
    "    Stellar Paramer \n",
    "    --------------\n",
    "    T_star: float \n",
    "        Temperature of star [K]\n",
    "    R_star: float\n",
    "        Radius of star [m]\n",
    "    dist_star\n",
    "        distance of star [m]\n",
    "        \n",
    "    Return \n",
    "    ----------\n",
    "    mx1 array\n",
    "        Apparent brightness of flare in the passbands at Earth\n",
    "    \n",
    "    '''\n",
    "    \n",
    "    \n",
    "    brightness = []\n",
    "    for i in range(len(limit)):\n",
    "        wavelength = wavelength_tot[limit[i][0]:limit[i][1]]\n",
    "        pre_factor = 1/(dist_star**2) * 2*c.h*c.c**2 /(wavelength**5) * np.pi\n",
    "        flare_contribution = (a*R_star)**2/(np.exp((c.h * c.c)/(T_flare*c.k*wavelength)) -1)\n",
    "        if model == \"thick\":\n",
    "            #total star in given passband #das ist super klein, deswegen hat es kaum einen Einfluss\n",
    "            star_contribution = -(a)**2 * np.trapz(fluxdensity_tot[limit[i][0]:limit[i][1]])   #R_star/dist_star weg #es macht Sinn nur den faktro a da zu haben, wegen l = sum flux l_a = a sum flux\n",
    "        else: \n",
    "            #thin case, a sign\n",
    "            star_contribution = (a)**2 * np.trapz(fluxdensity_tot[limit[i][0]:limit[i][1]])  \n",
    "        brightness.append(np.nansum(pre_factor * (flare_contribution))  + star_contribution) \n",
    "        \n",
    "    return np.asarray(brightness)"
   ]
  },
  {
   "cell_type": "code",
   "execution_count": 57,
   "id": "a1301152",
   "metadata": {},
   "outputs": [],
   "source": [
    "flare_SED = _brightness_mod(wavelength_SED, limit, 7000, 1e-5, flux_SED, t_star, r_star, dist_star)"
   ]
  },
  {
   "cell_type": "code",
   "execution_count": 60,
   "id": "20244c61",
   "metadata": {},
   "outputs": [],
   "source": [
    "flare_SED_error = flare_SED * 0.25"
   ]
  },
  {
   "cell_type": "code",
   "execution_count": null,
   "id": "35d14224",
   "metadata": {},
   "outputs": [],
   "source": [
    "\n",
    "#1. Blackbody mit T und a \n",
    "#2. Convolve with muscat filters to yield flare values\n",
    "\n",
    "#dafür von Temperature und area zu brightness sonst macht es keinen Sinn"
   ]
  },
  {
   "cell_type": "code",
   "execution_count": 2,
   "id": "e3e40b92",
   "metadata": {},
   "outputs": [],
   "source": [
    "import pandas as pd\n",
    "#import data frames with the flare parameters of davenport model (ampl, fwhm, tpeak)\n",
    "#fitted by emcee approach McKey 2013 \n",
    "\n"
   ]
  },
  {
   "cell_type": "code",
   "execution_count": 61,
   "id": "b563bad6",
   "metadata": {},
   "outputs": [
    {
     "data": {
      "text/plain": [
       "<ErrorbarContainer object of 3 artists>"
      ]
     },
     "execution_count": 61,
     "metadata": {},
     "output_type": "execute_result"
    },
    {
     "data": {
      "image/png": "[encoded data removed]",
      "text/plain": [
       "<Figure size 432x288 with 1 Axes>"
      ]
     },
     "metadata": {
      "needs_background": "light"
     },
     "output_type": "display_data"
    }
   ],
   "source": [
    "import matplotlib.pyplot as plt \n",
    "\n",
    "plt.errorbar(wavelength_M2,flare_SED, yerr = flare_SED_error)"
   ]
  },
  {
   "cell_type": "code",
   "execution_count": 62,
   "id": "8f9540a2",
   "metadata": {},
   "outputs": [],
   "source": [
    "with open(\"Test/results/values/brightness_flare_Test.txt\", \"w+\") as f:\n",
    "    f.write(\"g , r , i, z, unit: [None] \\n\")\n",
    "    f.write(str(flare_SED[0])+ ',' +  str(flare_SED[1])+ ',' + \\\n",
    "            str(flare_SED[2])+ ',' + str(flare_SED[3]) + '\\n' )\n",
    "\n",
    "    \n"
   ]
  }
 ],
 "metadata": {
  "kernelspec": {
   "display_name": "Python 3",
   "language": "python",
   "name": "python3"
  },
  "language_info": {
   "codemirror_mode": {
    "name": "ipython",
    "version": 3
   },
   "file_extension": ".py",
   "mimetype": "text/x-python",
   "name": "python",
   "nbconvert_exporter": "python",
   "pygments_lexer": "ipython3",
   "version": "3.8.8"
  }
 },
 "nbformat": 4,
 "nbformat_minor": 5
}
