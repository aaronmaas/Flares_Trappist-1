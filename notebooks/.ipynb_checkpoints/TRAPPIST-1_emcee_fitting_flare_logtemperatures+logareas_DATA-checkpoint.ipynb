{
 "cells": [
  {
   "cell_type": "code",
   "execution_count": 1,
   "id": "9580bf50",
   "metadata": {},
   "outputs": [],
   "source": [
    "import numpy as np\n",
    "from astropy import constants as ca\n",
    "from funcs.blackbody_model import _brightness_mod, brightness_mod_continous\n",
    "from funcs.probabilities_emcee import log_loglikelihood, log_logprior_global_uniform, \\\n",
    "      plot_corner_emcee, plot_walker_emcee, display_median_from_chain,  log_logprobability, log_likelihood\n",
    "import sys \n",
    "import matplotlib.pyplot as plt\n",
    "import astropy.units as u"
   ]
  },
  {
   "cell_type": "code",
   "execution_count": 2,
   "id": "4b2a015b",
   "metadata": {},
   "outputs": [],
   "source": [
    "#import brightness and error for each Flare and TRAPPIST-1\n",
    "flare1 = np.genfromtxt(\"../results/values/brightnesstot_flare1_TRAPPIST-1.txt\",delimiter=\",\" , skip_header=1)\n",
    "flare2 = np.genfromtxt(\"../results/values/brightnesstot_flare2_TRAPPIST-1.txt\",delimiter=\",\" , skip_header=1)\n",
    "trappist = np.genfromtxt(\"../results/values/brightness_TRAPPIST-1.txt\", delimiter= \",\", skip_header=1)\n",
    "trappist_SED = np.genfromtxt(\"../data/TRAPPIST1_Semimodel_Wilson/TRAPPIST-1_model_const_res_v07.ecsv\")\n",
    "trappistflux_M2 = np.genfromtxt(\"../results/values/brightness_TRAPPIST-1_withCCDeffeciency.txt\", delimiter= \",\", skip_header=1)"
   ]
  },
  {
   "cell_type": "code",
   "execution_count": 3,
   "id": "dfbd097c",
   "metadata": {},
   "outputs": [],
   "source": [
    "#import flare brightness and spectral energy dist. in M2\n",
    "wavelength_SED, flux_SED = trappist_SED[:,0]*1e-10, trappist_SED[:,1]\n",
    "brightness_flares, brightnesserror_flares = np.reshape(np.concatenate((flare1[0],flare2[0])), (2,4)), \\\n",
    "                                            np.reshape(np.concatenate((flare1[1], flare2[1])), (2,4))\n",
    "#flux/brighntess is in erg cm-2 -s\n",
    "\n",
    "#Import M2 response, passband limits\n",
    "iters = [\"g\", \"r\", \"i\", \"z\"]\n",
    "limit, wavelength_M2, response_M2 = [], [], []\n",
    "\n",
    "for i in iters: \n",
    "    #limit are the limits of the passband in wavelength \n",
    "    limit.append(np.load(\"../data/MuSCAT2_response/MuSCAT2_limit_{}.npy\".format(str(i))))\n",
    "    wavelength_M2.append(np.load(\"../data/MuSCAT2_response/MuSCAT2_wavelength_{}.npy\".format(str(i))))\n",
    "    response_M2.append(np.load(\"../data/MuSCAT2_response/MuSCAT2_response_{}_bandpass.npy\".format(str(i))))"
   ]
  },
  {
   "cell_type": "code",
   "execution_count": 4,
   "id": "c9165bfb",
   "metadata": {},
   "outputs": [],
   "source": [
    "#Convert to correct unit\n",
    "brightness_flares = brightness_flares* u.erg *u.s**(-1) * u.cm**(-2)\n",
    "brightnesserror_flares = brightnesserror_flares * u.erg *u.s**(-1) * u.cm**(-2)\n",
    "brightness_flares = brightness_flares.to(\"W/m^2\")\n",
    "brightnesserror_flares = brightnesserror_flares.to(\"W/m^2\")\n",
    "\n",
    "brightness_flares = brightness_flares.to(\"W/m^2\").value\n",
    "brightnesserror_flares = brightnesserror_flares.to(\"W/m^2\").value "
   ]
  },
  {
   "cell_type": "code",
   "execution_count": 5,
   "id": "f91358e0",
   "metadata": {},
   "outputs": [],
   "source": [
    "flux_SED = flux_SED * u.erg * u.s**(-1) *u.cm**(-2) * u.Angstrom**(-1)\n",
    "flux_SED = flux_SED.to(\"W m^-3\")\n",
    "flux_SED = flux_SED.value"
   ]
  },
  {
   "cell_type": "code",
   "execution_count": 6,
   "id": "772b8bd6",
   "metadata": {},
   "outputs": [],
   "source": [
    "###################################\n",
    "from scipy.optimize import minimize\n",
    "\n",
    "#Define parameters of the TRAPPIST-1\n",
    "parameters_op = []\n",
    "t_star = 2648 #[K] #Wilson et al 2021\n",
    "r_star = 0.1192 * ca.R_sun.value\n",
    "dist_star = dist_TRAP = 3.835084e+17 #[m]\n",
    "\n",
    "#initial values for MCMC\n",
    "for i in range(len(brightness_flares)):\n",
    "    nll = lambda *args: -log_likelihood(*args)\n",
    "    initial = np.array([5000,0.1] + 0.01 * np.random.randn(2))\n",
    "    soln = minimize(nll, initial, args=(wavelength_SED, brightness_flares[i], \\\n",
    "                                        brightnesserror_flares[i], limit, flux_SED, \\\n",
    "                                        t_star, r_star, dist_star))\n",
    "    T_op, a_op = soln.x \n",
    "    \n",
    "    #ensure Temperature is not to high\n",
    "    if T_op > 25000 or T_op < 3000:\n",
    "        T_op = 6000 \n",
    "        \n",
    "    #ensure fraction of area is not negative\n",
    "    if a_op < 0:\n",
    "        a_op = 1e-6\n",
    "    \n",
    "    parameters_op.append([T_op, a_op])\n",
    "\n",
    "parameters_op = np.asarray(parameters_op)"
   ]
  },
  {
   "cell_type": "code",
   "execution_count": 7,
   "id": "d3e3258a",
   "metadata": {},
   "outputs": [
    {
     "name": "stderr",
     "output_type": "stream",
     "text": [
      "  0%|                                        | 10/25000 [00:00<04:27, 93.60it/s]"
     ]
    },
    {
     "name": "stdout",
     "output_type": "stream",
     "text": [
      "Flare #1"
     ]
    },
    {
     "name": "stderr",
     "output_type": "stream",
     "text": [
      "100%|█████████████████████████████████████| 25000/25000 [04:37<00:00, 89.99it/s]\n",
      "  0%|                                        | 10/25000 [00:00<04:24, 94.44it/s]"
     ]
    },
    {
     "name": "stdout",
     "output_type": "stream",
     "text": [
      "Flare #2"
     ]
    },
    {
     "name": "stderr",
     "output_type": "stream",
     "text": [
      "100%|█████████████████████████████████████| 25000/25000 [04:34<00:00, 91.07it/s]\n"
     ]
    }
   ],
   "source": [
    "import emcee\n",
    "import corner\n",
    "import matplotlib.pyplot as plt\n",
    "\n",
    "\n",
    "n = 25000 #number of steps in the chain\n",
    "ndim = 2 #dimensions of the model i.e. parameters in the model\n",
    "nwalkers = 40 #number of walkers\n",
    "\n",
    "samples_total, samplesflat_total = [],[] \n",
    "\n",
    "#Emcee Flare fitting\n",
    "for i in range(len(brightness_flares)):\n",
    "    sys.stdout.write(\"Flare #\" + str(i+1))\n",
    "    \n",
    "    pos = np.log10(parameters_op[i] + 1e-7 * np.random.randn(nwalkers, ndim))\n",
    "    \n",
    "    \n",
    "    \n",
    "    #sampler\n",
    "    sampler = emcee.EnsembleSampler(\n",
    "                nwalkers, ndim, log_logprobability, args=(wavelength_SED, brightness_flares[i],\\\n",
    "                                                       brightnesserror_flares[i], limit, flux_SED, \\\n",
    "                                                       t_star, r_star, dist_star, log_logprior_global_uniform))\n",
    "    sampler.run_mcmc(pos, n, progress=True, )\n",
    "    \n",
    "    #flattensamples and discard burn in phase\n",
    "    samplesflat_total.append(sampler.get_chain(discard=1000, thin=15, flat=True))\n",
    "    samples_total.append(sampler.get_chain())\n",
    "    "
   ]
  },
  {
   "cell_type": "code",
   "execution_count": 9,
   "id": "26cd686f",
   "metadata": {},
   "outputs": [],
   "source": [
    "#Write chain data to arrays \n",
    "\n",
    "np.save(\"../data/MCMC/logsamples_total\", samples_total, allow_pickle=True, fix_imports=True)\n",
    "np.save(\"../data/MCMC/logsamplesflat_total\", samplesflat_total, allow_pickle=True, fix_imports=True)"
   ]
  },
  {
   "cell_type": "code",
   "execution_count": null,
   "id": "f8892227",
   "metadata": {},
   "outputs": [],
   "source": []
  }
 ],
 "metadata": {
  "kernelspec": {
   "display_name": "Python 3 (ipykernel)",
   "language": "python",
   "name": "python3"
  },
  "language_info": {
   "codemirror_mode": {
    "name": "ipython",
    "version": 3
   },
   "file_extension": ".py",
   "mimetype": "text/x-python",
   "name": "python",
   "nbconvert_exporter": "python",
   "pygments_lexer": "ipython3",
   "version": "3.8.8"
  }
 },
 "nbformat": 4,
 "nbformat_minor": 5
}
