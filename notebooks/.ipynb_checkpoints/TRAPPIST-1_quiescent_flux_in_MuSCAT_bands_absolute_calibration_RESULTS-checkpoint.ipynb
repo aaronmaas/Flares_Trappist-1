{
 "cells": [
  {
   "cell_type": "code",
   "execution_count": 1,
   "id": "8fc2deb9",
   "metadata": {},
   "outputs": [],
   "source": [
    "import numpy as np \n",
    "import pandas as pd\n",
    "import matplotlib.pyplot as plt \n",
    "import astropy.units as au\n",
    "import astropy.constants as ca"
   ]
  },
  {
   "cell_type": "code",
   "execution_count": 2,
   "id": "8a488294",
   "metadata": {},
   "outputs": [],
   "source": [
    "#Semi empirical model + error for spectrum TRAPPIST-1 from Wilson et al 2021\n",
    "trappist_SED = np.genfromtxt(\"../data/TRAPPIST1_Semimodel_Wilson/TRAPPIST-1_model_const_res_v07.ecsv\", \\\n",
    "                              delimiter = \"\")\n",
    "#unit erg A^-1 s^-1 cm^-2 "
   ]
  },
  {
   "cell_type": "code",
   "execution_count": 3,
   "id": "a893be38",
   "metadata": {},
   "outputs": [],
   "source": [
    "flux_TRAP = trappist_SED[:,1]  * au.erg * au.cm**(-2) * au.s**(-1) * au.Angstrom**(-1)\n",
    "wavelength_TRAP = trappist_SED[:,0]  * au.Angstrom\n",
    "#error of semiemprical model is 5% Wilson et al 2021\n",
    "fluxerror_TRAP = (0.05*trappist_SED[:,1])  * au.erg * au.cm**(-2) * au.s**(-1) * au.Angstrom**(-1)"
   ]
  },
  {
   "cell_type": "code",
   "execution_count": 4,
   "id": "bfa96e28",
   "metadata": {},
   "outputs": [],
   "source": [
    "#Muscat Reaponse\n",
    "muscat = pd.read_csv(\"../data/MuSCAT2_response/MuSCAT2_response.csv\")\n",
    "\n",
    "muscat = muscat.fillna(0) \n",
    "muscat[\"lamb\"] = muscat.wavelength*1e1   #Angstrom"
   ]
  },
  {
   "cell_type": "code",
   "execution_count": 5,
   "id": "ada051ce",
   "metadata": {},
   "outputs": [],
   "source": [
    "# Gaia response function for G filter\n",
    "gaia = np.genfromtxt(\"../data/Gaia_response/GaiaDR2_Passbands.dat\")\n",
    "mask = gaia == 99.99 \n",
    "gaia[mask] = 0\n",
    "gaia[:,0] = gaia[:,0]*1e1  #Angstrom"
   ]
  },
  {
   "cell_type": "code",
   "execution_count": 6,
   "id": "2168e6be",
   "metadata": {},
   "outputs": [],
   "source": [
    "#Interplotation to TRAPPIST-1 Gaia\n",
    "rres = np.interp(gaia[:,0], wavelength_TRAP.value, flux_TRAP.value) "
   ]
  },
  {
   "cell_type": "code",
   "execution_count": 7,
   "id": "a854b6b2",
   "metadata": {},
   "outputs": [],
   "source": [
    "#total flux in gaia passbands\n",
    "gaiaflux  = np.trapz(gaia[:,1]*rres, x=gaia[:,0])\n",
    "TRAPPIST_gaia = 15.622554 #magnitude gaia VEGAMAG\n",
    "ZP_gaia = 25.6883657251 #z point gaia VEGAMAG"
   ]
  },
  {
   "cell_type": "code",
   "execution_count": 59,
   "id": "80c2b16e",
   "metadata": {},
   "outputs": [],
   "source": [
    "#f2  = flux_TRAP/gaiaflux"
   ]
  },
  {
   "cell_type": "code",
   "execution_count": 8,
   "id": "098cb6a8",
   "metadata": {},
   "outputs": [],
   "source": [
    "#retrieve flux value of TRAPPIST-1 in gaia absolute units\n",
    "def gaia_flux(m,ZP):\n",
    "    return 10**(-(m-ZP)/2.5) * au.erg * au.m**(-2) *au.Angstrom**(-1) * au.s**(-1)"
   ]
  },
  {
   "cell_type": "code",
   "execution_count": 9,
   "id": "e38f258a",
   "metadata": {},
   "outputs": [],
   "source": [
    "gaia_TRAP =  gaia_flux(TRAPPIST_gaia,ZP_gaia) "
   ]
  },
  {
   "cell_type": "code",
   "execution_count": 10,
   "id": "1077493f",
   "metadata": {},
   "outputs": [],
   "source": [
    "norm = gaiaflux/gaia_TRAP.to(\"erg s^-1 cm^-2 Angstrom^-1\") "
   ]
  },
  {
   "cell_type": "code",
   "execution_count": 11,
   "id": "1766fadb",
   "metadata": {},
   "outputs": [],
   "source": [
    "#normalisation and callibration of MM SED to gaia \n",
    "flux_norm = flux_TRAP/norm "
   ]
  },
  {
   "cell_type": "code",
   "execution_count": 12,
   "id": "caa586ed",
   "metadata": {},
   "outputs": [],
   "source": [
    "#Interpolation to TRAPPIST-1 M2\n",
    "rres1 = np.interp(muscat.lamb, wavelength_TRAP.value, flux_norm.value) "
   ]
  },
  {
   "cell_type": "code",
   "execution_count": 13,
   "id": "a4def8cb",
   "metadata": {},
   "outputs": [],
   "source": [
    "#muscat specific-flux\n",
    "muscatflux  = np.asarray([np.trapz(muscat.Total_g*rres1, x=muscat.lamb), \\\n",
    "                   np.trapz(muscat.Total_r*rres1, x=muscat.lamb), \\\n",
    "                   np.trapz(muscat.Total_i*rres1, x=muscat.lamb), \\\n",
    "                   np.trapz(muscat.Total_z*rres1, x=muscat.lamb) ])"
   ]
  },
  {
   "cell_type": "code",
   "execution_count": 14,
   "id": "0d8ae108",
   "metadata": {},
   "outputs": [],
   "source": [
    "#Wilson et al 2021 take 5% of the flux values as error\n",
    "muscatfluxerror  = np.asarray([np.trapz(muscat.Total_g*0.05*rres1, x=muscat.lamb), \\\n",
    "                   np.trapz(muscat.Total_r*0.05*rres1, x=muscat.lamb), \\\n",
    "                   np.trapz(muscat.Total_i*0.05*rres1, x=muscat.lamb), \\\n",
    "                   np.trapz(muscat.Total_z*0.05*rres1, x=muscat.lamb) ])"
   ]
  },
  {
   "cell_type": "code",
   "execution_count": 15,
   "id": "9312ccd3",
   "metadata": {},
   "outputs": [
    {
     "data": {
      "text/latex": [
       "$[4.8535572 \\times 10^{31},~1.0693927 \\times 10^{32},~8.1525537 \\times 10^{32},~1.1745399 \\times 10^{33}] \\; \\mathrm{W}$"
      ],
      "text/plain": [
       "<Quantity [4.85355719e+31, 1.06939275e+32, 8.15255369e+32, 1.17453990e+33] W>"
      ]
     },
     "execution_count": 15,
     "metadata": {},
     "output_type": "execute_result"
    }
   ],
   "source": [
    "#Lienhardt et al 2020\n",
    "dist_TRAP = 3.835084e+19 *au.cm \n",
    "dist_TRAP_error = 0.02 * 3.086e+18 *au.cm\n",
    "\n",
    "lumi_TRAP = muscatflux*au.erg*au.cm**(-2)*au.s**(-1)*(4*np.pi*(dist_TRAP)**2)\n",
    "#lumierror_TRAP = np.sqrt(4*np.pi*(dist_TRAP.value)**2 * brightnesserror_TRAP.value**2 + 8*np.pi*brightness_TRAP.value*dist_TRAP.value*dist_TRAP_error.value**2 ) *au.erg * au.s**(-1)\n",
    "lumi_TRAP.to(\"W\")\n"
   ]
  },
  {
   "cell_type": "code",
   "execution_count": 16,
   "id": "193d4e42",
   "metadata": {},
   "outputs": [],
   "source": [
    "#safe passbandflux\n",
    "with open(\"../results/values/brightness_TRAPPIST-1_withCCDeffeciency.txt\", \"w+\") as f:\n",
    "    f.write(\"g , r , i, z, units: [erg cm-2 s-1]  \\n\")\n",
    "    f.write(str(muscatflux[0])+ ',' +  str(muscatflux[1])+ ',' + \\\n",
    "            str(muscatflux[2])+ ',' + str(muscatflux[3]) + '\\n' )\n",
    "    f.write(str(muscatfluxerror[0])+ ',' +  str(muscatfluxerror[1])+ ',' + \\\n",
    "            str(muscatfluxerror[2])+ ',' + str(muscatfluxerror[2]) + '\\n' )"
   ]
  },
  {
   "cell_type": "code",
   "execution_count": 17,
   "id": "e1708b75",
   "metadata": {},
   "outputs": [],
   "source": [
    "#safe lumi\n",
    "with open(\"../results/values/lumi_TRAPPIST-1_withCCDeffeciency.txt\", \"w+\") as f:\n",
    "    f.write(\"g , r , i, z, units: [erg s-1] \\n\")\n",
    "    f.write(str(lumi_TRAP[0].value)+ ',' +  str(lumi_TRAP[1].value)+ ',' + \\\n",
    "            str(lumi_TRAP[2].value)+ ',' + str(lumi_TRAP[3].value) )"
   ]
  }
 ],
 "metadata": {
  "kernelspec": {
   "display_name": "Python 3 (ipykernel)",
   "language": "python",
   "name": "python3"
  },
  "language_info": {
   "codemirror_mode": {
    "name": "ipython",
    "version": 3
   },
   "file_extension": ".py",
   "mimetype": "text/x-python",
   "name": "python",
   "nbconvert_exporter": "python",
   "pygments_lexer": "ipython3",
   "version": "3.8.8"
  }
 },
 "nbformat": 4,
 "nbformat_minor": 5
}
