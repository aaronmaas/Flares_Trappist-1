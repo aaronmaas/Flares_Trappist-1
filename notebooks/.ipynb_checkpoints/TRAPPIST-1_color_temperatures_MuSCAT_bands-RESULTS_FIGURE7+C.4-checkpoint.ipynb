{
 "cells": [
  {
   "cell_type": "code",
   "execution_count": null,
   "id": "aab8bb58",
   "metadata": {},
   "outputs": [],
   "source": [
    "### Be very careful here, this is a very big mess needs a big big clean up"
   ]
  },
  {
   "cell_type": "code",
   "execution_count": 1,
   "id": "2846f9bd",
   "metadata": {},
   "outputs": [],
   "source": [
    "import numpy as np\n",
    "import pandas as pd\n",
    "from funcs.color_temperatures import lcbin, estimate_detrended_noise\n",
    "from funcs.aflare1 import aflare1"
   ]
  },
  {
   "cell_type": "code",
   "execution_count": 2,
   "id": "f7b290e8",
   "metadata": {},
   "outputs": [
    {
     "name": "stderr",
     "output_type": "stream",
     "text": [
      "/home/aaronmaas/anaconda3/lib/python3.8/site-packages/ipykernel/ipkernel.py:287: DeprecationWarning: `should_run_async` will not call `transform_cell` automatically in the future. Please pass the result to `transformed_cell` argument and any exception that happen during thetransform in `preprocessing_exc_tuple` in IPython 7.17 and above.\n",
      "  and should_run_async(code)\n"
     ]
    }
   ],
   "source": [
    "import matplotlib.pyplot as plt\n",
    "fluxi=np.load('../data/TRAPPIST1_flares_MuSCAT2/fluxi_trappist_m2.npy')\n",
    "timei=np.load('../data/TRAPPIST1_flares_MuSCAT2/timei_trappist_m2.npy')\n",
    "fluxr = np.load('../data/TRAPPIST1_flares_MuSCAT2/fluxr_trappist_m2.npy')\n",
    "timer = np.load('../data/TRAPPIST1_flares_MuSCAT2/timer_trappist_m2.npy')\n",
    "fluxz = np.load('../data/TRAPPIST1_flares_MuSCAT2/fluxz_trappist_m2.npy')\n",
    "timez = np.load('../data/TRAPPIST1_flares_MuSCAT2/timez_trappist_m2.npy')\n",
    "fluxg = np.load('../data/TRAPPIST1_flares_MuSCAT2/fluxg_trappist_m2.npy')\n",
    "timeg = np.load('../data/TRAPPIST1_flares_MuSCAT2/timeg_trappist_m2.npy')\n",
    "\n",
    "def find_nearest(array1, array2, value):\n",
    "        idx = (np.abs(array1-value)).argmin()\n",
    "        return array2[idx], idx"
   ]
  },
  {
   "cell_type": "code",
   "execution_count": 3,
   "id": "9590c78e",
   "metadata": {},
   "outputs": [],
   "source": [
    "#cut the flare; for error estimate it is better to include more than just arround the flux!\n",
    "flux_g_flare1 = fluxg[4625:4639] \n",
    "time_g_flare1 = timeg[4625:4639]\n",
    "flux_r_flare1 = fluxr[3671:3685]\n",
    "time_r_flare1 = timer[3671:3685]\n",
    "flux_i_flare1 = fluxi[2095:2121]  \n",
    "time_i_flare1 = timei[2095:2121]  \n",
    "flux_z_flare1 = fluxz[5331:5427]\n",
    "time_z_flare1 = timez[5331:5427]\n",
    "\n",
    "flux_g_flare2 = fluxg[4865:4880]\n",
    "time_g_flare2 = timeg[4865:4880]\n",
    "flux_r_flare2 = fluxr[3920:3935]\n",
    "time_r_flare2 = timer[3920:3935]\n",
    "flux_i_flare2 = fluxi[2578:2607]\n",
    "time_i_flare2 = timei[2578:2607]\n",
    "flux_z_flare2 = fluxz[6862:6970]\n",
    "time_z_flare2 = timez[6862:6970]"
   ]
  },
  {
   "cell_type": "code",
   "execution_count": 4,
   "id": "c320ba97",
   "metadata": {},
   "outputs": [],
   "source": [
    "import matplotlib.pyplot as plt "
   ]
  },
  {
   "cell_type": "code",
   "execution_count": 5,
   "id": "9d8532b1",
   "metadata": {},
   "outputs": [
    {
     "data": {
      "text/plain": [
       "[<matplotlib.lines.Line2D at 0x7efe56af38e0>]"
      ]
     },
     "execution_count": 5,
     "metadata": {},
     "output_type": "execute_result"
    }
   ],
   "source": [
    "plt.plot(flux_g_flare1)"
   ]
  },
  {
   "cell_type": "code",
   "execution_count": 4,
   "id": "bc6578fa",
   "metadata": {},
   "outputs": [],
   "source": [
    "from altaipony.lcio import FlareLightCurve \n",
    "\n",
    "flc_g_1 = FlareLightCurve(flux = flux_g_flare1, time = time_g_flare1, detrended_flux = flux_g_flare1)\n",
    "flc_z_1 = FlareLightCurve(flux = flux_z_flare1, time = time_z_flare1, detrended_flux = flux_z_flare1)\n",
    "flc_r_1 = FlareLightCurve(flux = flux_r_flare1, time = time_r_flare1, detrended_flux = flux_r_flare1)\n",
    "flc_i_1 = FlareLightCurve(flux = flux_i_flare1, time = time_i_flare1, detrended_flux = flux_i_flare1)\n",
    "\n",
    "flc_g_2 = FlareLightCurve(flux = flux_g_flare2, time = time_g_flare2, detrended_flux = flux_g_flare2)\n",
    "flc_z_2 = FlareLightCurve(flux = flux_z_flare2, time = time_z_flare2, detrended_flux = flux_z_flare2)\n",
    "flc_r_2 = FlareLightCurve(flux = flux_r_flare2, time = time_r_flare2, detrended_flux = flux_r_flare2)\n",
    "flc_i_2 = FlareLightCurve(flux = flux_i_flare2, time = time_i_flare2, detrended_flux = flux_i_flare2)"
   ]
  },
  {
   "cell_type": "code",
   "execution_count": 5,
   "id": "86049683",
   "metadata": {},
   "outputs": [],
   "source": [
    "flc2_g_1 = estimate_detrended_noise(flc_g_1, mask_pos_outliers_sigma=2.5, std_window=100, padleft=3, padright=10)\n",
    "flc2_r_1 = estimate_detrended_noise(flc_r_1, mask_pos_outliers_sigma=2.5, std_window=100, padleft=3, padright=10)\n",
    "flc2_z_1 = estimate_detrended_noise(flc_z_1, mask_pos_outliers_sigma=2.5, std_window=100, padleft=3, padright=10)\n",
    "flc2_i_1 = estimate_detrended_noise(flc_i_1, mask_pos_outliers_sigma=2.5, std_window=100, padleft=3, padright=10)\n",
    "\n",
    "flc2_g_2 = estimate_detrended_noise(flc_g_2, mask_pos_outliers_sigma=2.5, std_window=100, padleft=3, padright=10)\n",
    "flc2_r_2 = estimate_detrended_noise(flc_r_2, mask_pos_outliers_sigma=2.5, std_window=100, padleft=3, padright=10)\n",
    "flc2_z_2 = estimate_detrended_noise(flc_z_2, mask_pos_outliers_sigma=2.5, std_window=100, padleft=3, padright=10)\n",
    "flc2_i_2 = estimate_detrended_noise(flc_i_2, mask_pos_outliers_sigma=2.5, std_window=100, padleft=3, padright=10)"
   ]
  },
  {
   "cell_type": "code",
   "execution_count": 6,
   "id": "12877854",
   "metadata": {},
   "outputs": [],
   "source": [
    "ratios = np.load(\"../results/values/Flux_ratios_TRAPPI.npy.npz\")"
   ]
  },
  {
   "cell_type": "code",
   "execution_count": 17,
   "id": "451db39f",
   "metadata": {},
   "outputs": [
    {
     "data": {
      "text/plain": [
       "<numpy.lib.npyio.NpzFile at 0x7efe559286d0>"
      ]
     },
     "execution_count": 17,
     "metadata": {},
     "output_type": "execute_result"
    }
   ],
   "source": [
    "ratios"
   ]
  },
  {
   "cell_type": "code",
   "execution_count": 7,
   "id": "4ab2a55d",
   "metadata": {},
   "outputs": [],
   "source": [
    "\n",
    "flcs = np.asarray([flc2_g_1, flc2_r_1, flc2_i_1, flc2_z_1, 'no data', 'no data'])\n",
    "flcs2 = np.asarray([flc2_g_2, flc2_r_2, flc2_i_2, flc2_z_2, 'no data', 'no data'])\n",
    "ratios = np.asarray([np.asarray(ratios[\"arr_0\"]), np.asarray(ratios[\"arr_1\"]), np.asarray(ratios[\"arr_2\"])]) \n",
    "\n",
    "keys = [\"Ratio g/r\", \"Ratio g/i\", \"Ratio g/z\"]\n",
    "ratios_dic = dict(zip(keys, ratios))\n",
    "\n",
    "keys2 = [\"g\",\"r\",\"i\",\"z\"]\n",
    "flcs_dic = dict(zip(keys2, flcs))"
   ]
  },
  {
   "cell_type": "code",
   "execution_count": 27,
   "id": "6f50444c",
   "metadata": {
    "scrolled": false
   },
   "outputs": [
    {
     "name": "stderr",
     "output_type": "stream",
     "text": [
      "/home/aaronmaas/anaconda3/lib/python3.8/site-packages/ipykernel/ipkernel.py:287: DeprecationWarning: `should_run_async` will not call `transform_cell` automatically in the future. Please pass the result to `transformed_cell` argument and any exception that happen during thetransform in `preprocessing_exc_tuple` in IPython 7.17 and above.\n",
      "  and should_run_async(code)\n"
     ]
    },
    {
     "name": "stdout",
     "output_type": "stream",
     "text": [
      "6995\n",
      "2490\n",
      "11795\n",
      "2250\n",
      "Due to difference of -12 datapoints, data-binning!\n",
      "6295\n",
      "3045\n",
      "11150\n",
      "3030\n"
     ]
    },
    {
     "name": "stderr",
     "output_type": "stream",
     "text": [
      "<ipython-input-10-7e71e3501af4>:104: DeprecationWarning: `np.int` is a deprecated alias for the builtin `int`. To silence this warning, use `int` by itself. Doing this will not modify any behavior and is safe. When replacing `np.int`, you may wish to use e.g. `np.int64` or `np.int32` to specify the precision. If you wish to review your current use, check the release note link for additional information.\n",
      "Deprecated in NumPy 1.20; for more details and guidance: https://numpy.org/devdocs/release/1.20.0-notes.html#deprecations\n",
      "  n_bin = np.zeros(n, dtype=np.int)\n",
      "<ipython-input-10-7e71e3501af4>:112: RuntimeWarning: invalid value encountered in double_scalars\n",
      "  e_bin[i] = np.std(flux[j])/np.sqrt(n-1)\n"
     ]
    },
    {
     "name": "stdout",
     "output_type": "stream",
     "text": [
      "Due to difference of -82 datapoints, data-binning!\n",
      "5580\n",
      "3255\n",
      "8130\n",
      "3140\n"
     ]
    },
    {
     "name": "stderr",
     "output_type": "stream",
     "text": [
      "<ipython-input-10-7e71e3501af4>:104: DeprecationWarning: `np.int` is a deprecated alias for the builtin `int`. To silence this warning, use `int` by itself. Doing this will not modify any behavior and is safe. When replacing `np.int`, you may wish to use e.g. `np.int64` or `np.int32` to specify the precision. If you wish to review your current use, check the release note link for additional information.\n",
      "Deprecated in NumPy 1.20; for more details and guidance: https://numpy.org/devdocs/release/1.20.0-notes.html#deprecations\n",
      "  n_bin = np.zeros(n, dtype=np.int)\n"
     ]
    },
    {
     "name": "stdout",
     "output_type": "stream",
     "text": [
      "[array([ 50,  50,  50, ..., 295, 295, 295]), array([ 50,  50,  50, ..., 510, 510, 510]), array([ 50,  50,  50, ..., 555, 555, 555])]\n"
     ]
    },
    {
     "data": {
      "image/png": "[encoded data removed]",
      "text/plain": [
       "<Figure size 691.2x518.4 with 1 Axes>"
      ]
     },
     "metadata": {
      "needs_background": "light"
     },
     "output_type": "display_data"
    }
   ],
   "source": [
    "Temperatures = np.arange(50,50000,5) #howard\n",
    "%matplotlib inline\n",
    "\n",
    "from matplotlib import rcParams  #ticks for axes\n",
    "rcParams.update({'xtick.major.pad': '5.0'})\n",
    "rcParams.update({'xtick.major.size': '7.5'})\n",
    "rcParams.update({'xtick.major.width': '1.5'})\n",
    "rcParams.update({'xtick.minor.pad': '7.0'})\n",
    "rcParams.update({'xtick.minor.size': '3.5'})\n",
    "rcParams.update({'xtick.minor.width': '1.0'})\n",
    "rcParams.update({'ytick.major.pad': '7.0'})\n",
    "rcParams.update({'ytick.major.size': '7.5'})\n",
    "rcParams.update({'ytick.major.width': '1.5'})\n",
    "rcParams.update({'ytick.minor.pad': '7.0'})\n",
    "rcParams.update({'ytick.minor.size': '3.5'})\n",
    "rcParams.update({'ytick.minor.width': '1.0'})\n",
    "rcParams[\"figure.figsize\"] = [9.6, 7.2] \n",
    "rcParams.update({'font.size': 17})\n",
    "\n",
    "#timeoff flare1 = 4.2545e3 flare2 = 4306.4\n",
    "\n",
    "\n",
    "plot_temperature_by_epoch(flcs_dic, ratios_dic, Temperatures, T_star = 2566, sigma_T = 26, \\\n",
    "                          timeoff = 4.2545e3, flare_n = 0, flare_table = flares_df_dic,\\\n",
    "                          filterkeys = [\"Ratio g/r\", \"Ratio g/i\", \"Ratio g/z\"], labels = [r\"$T_\\mathrm{eff}$ from $R_{(g/r)}$\", r\"$T_\\mathrm{eff}$ from $R_{(g/i)}$\", r\"$T_\\mathrm{eff}$ from $R_{(g/z_\\mathrm{s})}$\"], \\\n",
    "                          model = True, joint = True, error = True) "
   ]
  },
  {
   "cell_type": "markdown",
   "id": "4e94f72c",
   "metadata": {},
   "source": [
    "# --------------------------------------------------------------------------------------------------"
   ]
  },
  {
   "cell_type": "code",
   "execution_count": 26,
   "id": "07c44252",
   "metadata": {},
   "outputs": [
    {
     "name": "stderr",
     "output_type": "stream",
     "text": [
      "/home/aaronmaas/anaconda3/lib/python3.8/site-packages/ipykernel/ipkernel.py:287: DeprecationWarning: `should_run_async` will not call `transform_cell` automatically in the future. Please pass the result to `transformed_cell` argument and any exception that happen during thetransform in `preprocessing_exc_tuple` in IPython 7.17 and above.\n",
      "  and should_run_async(code)\n"
     ]
    }
   ],
   "source": [
    "def plot_temperature_by_epoch(flcs, ratios, temperatures, T_star = 2566, sigma_T = 26, timeoff = 4.2545e3, flare_n = 0, flare_table = None, filterkeys = [\"Ratio g/r\",\"Ratio g/z\"], labels = [\"Hö\"], colors = [\"tab:blue\", \"tab:orange\", \"tab:green\"],  model = False, joint = False, error = False): \n",
    "    \n",
    "    '''\n",
    "    Plot temperature by epoch in lightcurve Howard et al 2020. \n",
    "    \n",
    "    Params:\n",
    "    -------------\n",
    "    flcs : dictionary \n",
    "        dictionary of FlareLightCurves objects\n",
    "    ratios: dictionary\n",
    "        dictionary of ratio functions between the different filters.\n",
    "    temperaturs: 1d array\n",
    "        Temperatures used to calculate the ratios. \n",
    "    T_star: int\n",
    "        Temperature of the star\n",
    "    filterkeys: list \n",
    "        list of wished temperature ratio plots. \n",
    "        Note: The layout has to be \"Ratio filter1/filter2\" where filter1 has the lower central\n",
    "              wavelength than filter2 by convention.\n",
    "    joint : Bool\n",
    "        Default = False. If True all indicated temperatures per ratio are plotted in one figure rather than\n",
    "        in different figures.\n",
    "    error : Bool\n",
    "        Default = False. If Ture errorbars will be plotted on the Temperature.\n",
    "        \n",
    "    Return:\n",
    "    ----------\n",
    "    \n",
    "    temperatures_epoch: 1d array\n",
    "        Temperatures in [K] calculated by epoch using the method of Howard et al. 2020\n",
    "    temperatures_error: 1d array\n",
    "        Temperature errors [K] using Gaussian error porpagation\n",
    "    time: 1d array\n",
    "        time both lightcurves are binned to in JD [d]\n",
    "    \n",
    "    '''\n",
    "    error_ = []\n",
    "    temp_cal_ = []\n",
    "    temp_model_ = []\n",
    "    temp_model_low_ = []\n",
    "    temp_model_up_ = []\n",
    "    \n",
    "    if joint == True:\n",
    "        fig = plt.figure(figsize = [9.6, 7.2])\n",
    "    for i in range(len(filterkeys)): \n",
    "        filterkey = filterkeys[i]\n",
    "        #print(filterkey)\n",
    "        if filterkey in ratios.keys(): \n",
    "            ratio = ratios[filterkey]\n",
    "            temp_cal, temp_cal_err, time_cal, global_flare_temperature, global_flare_error = temperature_by_epoch(flcs[filterkey[-3]], flcs[filterkey[-1]], ratio, temperatures, sigma_T = sigma_T)\n",
    "            time_cal = time_cal - timeoff\n",
    "            print(global_flare_temperature)\n",
    "            print(global_flare_error)\n",
    "            print(np.max(temp_cal))\n",
    "            print(temp_cal_err[np.argmax(temp_cal)])\n",
    "    \n",
    "            if joint == False:\n",
    "                fig = plt.figure(figsize = [9.6, 7.2])\n",
    "                #plt.hlines(T_star, time_cal[0], time_cal[-1], ls =  \"dashed\", color = \"k\", label = r\"$T_\\mathrm{star}$\")\n",
    "            if error == True: \n",
    "                error_.append(temp_cal_err)\n",
    "                temp_cal_.append(temp_cal)\n",
    "                if joint == True:\n",
    "                    if i == len(filterkeys)-1 or i == 0:\n",
    "                        if i != 0:\n",
    "                            plt.errorbar(time_cal,temp_cal, yerr = np.asarray([temp_cal_err,np.zeros(len(temp_cal_err)) ]) , fmt='', marker='o', color = colors[i],ls = \"None\", ecolor='black', capthick=3, capsize = 3 )\n",
    "                            plt.plot(time_cal,temp_cal,label = labels[i], color = colors[i], ls = \"None\", marker='o')#, linestyle='None' )\n",
    "                            plt.xlim(time_cal[0], time_cal[-1])\n",
    "                        else:\n",
    "                            plt.errorbar(time_cal,temp_cal, yerr = np.asarray([np.zeros(len(temp_cal_err)),temp_cal_err]) , fmt='', marker='o', color = colors[i],ls = \"None\", ecolor='black', capthick=3, capsize = 3 )\n",
    "                            plt.plot(time_cal,temp_cal,label = labels[i], color = colors[i], ls = \"None\", marker='o')\n",
    "                            plt.xlim(time_cal[0], time_cal[-1])\n",
    "                    else:    \n",
    "                        plt.plot(time_cal,temp_cal,label = labels[i], color = colors[i], ls = \"None\", marker='o')#, linestyle='None' )\n",
    "                        plt.xlim(time_cal[0], time_cal[-1])\n",
    "                else:\n",
    "                    plt.errorbar(time_cal,temp_cal, yerr = temp_cal_err , fmt='', marker='o',ls = \"-\", capthick=3, capsize = 3, label = labels[i] )\n",
    "                    plt.xlim(time_cal[0], time_cal[-1])    \n",
    "                        \n",
    "            else:\n",
    "                plt.plot(time_cal,temp_cal,label = labels[i], marker='o')#, linestyle='None' )\n",
    "                \n",
    "            if model == True:\n",
    "                x1 = np.linspace(time_cal[0],time_cal[-1],5000)\n",
    "                temp_model, temp_model_low, temp_model_up=model_flare_temperatures(flares_df_dic, Temperatures = temperatures, ratios_dic = ratios,timeobs = x1, timeoff = timeoff, filterkey = filterkey, filter1 = filterkey[-3], filter2 = filterkey[-1], flare_n = flare_n)\n",
    "                temp_model_.append(temp_model)\n",
    "                temp_model_low_.append(temp_model_low)\n",
    "                temp_model_up_.append(temp_model_up)\n",
    "                \n",
    "                if joint == True:\n",
    "                    plt.plot(x1, temp_model, color = colors[i]) \n",
    "                    if i == len(filterkeys)-1:\n",
    "                        print(temp_model_up_)\n",
    "                        low = np.asarray(temp_model_[2]) - np.asarray(temp_model_low_[2])\n",
    "                        high = np.asarray(temp_model_[0]) + np.asarray(temp_model_up_[0]) \n",
    "                        plt.fill_between(x1, temp_model_[1]  , low ,facecolor = \"orange\", alpha = 0.5 )\n",
    "                        plt.fill_between(x1, high, temp_model_[1],facecolor = \"orange\", alpha = 0.5 )\n",
    "                        #high\n",
    "                else:\n",
    "                    plt.plot(x1, temp_model, color = \"orange\", label = \"model from best-fit flare profile\")\n",
    "                    plt.fill_between(x1, temp_model + temp_model_up  , temp_model - temp_model_low ,facecolor = \"orange\", alpha = 0.5 )\n",
    "            #plt.grid()\n",
    "            plt.xlabel(r\"Time in RJD - {}  [d]\".format(timeoff))\n",
    "            plt.ylabel(r\"$T_\\mathrm{eff}$ [K]\")\n",
    "            plt.xlim(time_cal[0],time_cal[-1])\n",
    "            #plt.ylim(1000)\n",
    "            if joint == False:\n",
    "                plt.legend(frameon = False)\n",
    "                filter1 = filterkey[-3]\n",
    "                filter2 = filterkey[-1]\n",
    "                if filter1 == \"i\" and filter2 == \"z\":\n",
    "                    plt.ylim(2000,3500)\n",
    "            fig.tight_layout() \n",
    "        else: \n",
    "            print(\"Either are the two filter ratio's not comparable or the argument is invalid.\")\n",
    "    #if joint == True:\n",
    "        #plt.hlines(T_star, time_cal[0], time_cal[-1], linestyle = 'dashed', color = \"k\", label = r\"$T_\\mathrm{star}$\")\n",
    "    plt.legend(frameon = False, loc = \"upper right\")\n",
    "    return "
   ]
  },
  {
   "cell_type": "code",
   "execution_count": 10,
   "id": "34b4f27d",
   "metadata": {},
   "outputs": [],
   "source": [
    "def temperature_by_epoch(flc1, flc2, ratio, temperatures, T_star = 2566, sigma_T = 26): \n",
    "    '''\n",
    "    Calculates the flare temperature by epoch for multipassband photometry. \n",
    "    \n",
    "    Parameters\n",
    "    -------------\n",
    "    flc1 : FlareLightCurve object \n",
    "        light curve in one filter\n",
    "        \n",
    "    flc2 : FlareLightCurve object\n",
    "        light curve in other filter\n",
    "        \n",
    "    ratio: 1d array\n",
    "        R(T_eff) ratio in function of Temperature for the two passbands\n",
    "    T_star: int\n",
    "        Temperature of the star\n",
    "        \n",
    "    Return\n",
    "    ----------\n",
    "    \n",
    "    temperatures_epoch: 1d array\n",
    "        Temperatures in [K] calculated by epoch using the method of Howard et al. 2020\n",
    "    temperatures_error: 1d array\n",
    "        Temperature errors [K] using Gaussian error porpagation\n",
    "    time: 1d array\n",
    "        time both lightcurves are binned to in JD [d]\n",
    "    \n",
    "    '''\n",
    "    \n",
    "    time1, flux1, fluxerr1 = flc1.time, flc1.detrended_flux, flc1.detrended_flux_err\n",
    "    time2, flux2, fluxerr2 = flc2.time, flc2.detrended_flux, flc2.detrended_flux_err\n",
    "    \n",
    "    difference = len(time1) - len(time2)\n",
    "    time = time1 #set time for plotting\n",
    "    \n",
    "    #bin the data\n",
    "    if difference != 0:\n",
    "        print(\"Due to difference of {} datapoints, data-binning!\".format(difference))\n",
    "        if difference < 0:\n",
    "            n_cal = len(time1)\n",
    "            time2, flux2, e_2, c_2 = bin_basic(time2, flux2, time1[-1], n_cal)\n",
    "            time = time1\n",
    "        else: \n",
    "            n_cal = len(time2)\n",
    "            time1, flux1, e_1, c_1 = bin_basic(time1, flux1, time2[-1], n_cal)\n",
    "            time = time2     \n",
    "         \n",
    "    def find_nearest(array1, array2, value):\n",
    "        idx = (np.abs(array1-value)).argmin()\n",
    "        return array2[idx], idx\n",
    "    \n",
    "    temperatures_epoch, temperatures_error = [],[]\n",
    "    \n",
    "    for t in range(len(time1)): \n",
    "        ratio_rec = flux1[t]/flux2[t]  \n",
    "        temperatures_epoch.append(find_nearest(ratio, temperatures ,ratio_rec)[0]) \n",
    "        temperatures_error.append(find_nearest(ratio, temperatures,  1/flux2[t]*np.sqrt(fluxerr1[t]**2   +  ratio_rec**2 * fluxerr2[t]**2 ))[0])     #find_nearest(ratio, temperatures,  1/flux2[t]*np.sqrt(fluxerr1[t]**2  + sigma_offset**2 +  ratio_rec**2 * fluxerr2[t]**2 + fluxerr2[t]**2 * sigma_offset**2 \n",
    "    global_flare_temp = find_nearest(ratio,temperatures, np.sum(flux1)/np.sum(flux2) )[0]\n",
    "    global_flare_error = find_nearest(ratio, temperatures,  1/np.sum(flux2)*np.sqrt(np.sum(fluxerr1)**2  +  (np.sum(flux1)/np.sum(flux2))**2 * np.sum(fluxerr2)**2  ))[0]\n",
    "    return np.asarray(temperatures_epoch), np.asarray(temperatures_error), time, global_flare_temp, global_flare_error\n",
    "\n",
    "def energy_filter(response):\n",
    "    y1 = response \n",
    "    return integrate.trapz(y1)\n",
    "\n",
    "def bin_basic(time, flux, time2, n = 0):\n",
    "    '''\n",
    "    Calculate average flux and error in time bins of equal width.\n",
    "    The time values for the output bins is the average time value\n",
    "    of the input points.\n",
    "    Outputbin values are the mean and standard deviation.\n",
    "    \n",
    "    Params:\n",
    "    -------------\n",
    "    time - ndarry\n",
    "        time\n",
    "    flux - ndarry\n",
    "        normalized flux (or other quantity to be time-binned)\n",
    "    n - int = 1\n",
    "        number of bins \n",
    "    \n",
    "    Returns: t_bin, f_bin, e_bin, n_bin\n",
    "    --------------\n",
    "    \n",
    "    t_bin - ndarry\n",
    "        average time of binned data points.\n",
    "    f_bin - ndarry\n",
    "        mean flux of binned data points\n",
    "    e_bin - ndarry \n",
    "        standard error of flux points in the bin \n",
    "    n_bin - ndarry\n",
    "        number of flux points in the bin.\n",
    "    \n",
    "    -------------\n",
    "    \n",
    "    '''\n",
    "    \n",
    "    n_in_bin,bin_edges = np.histogram(time,bins=n, range = (time[0], time2))\n",
    "    bin_indices = np.digitize(time,bin_edges)\n",
    "    \n",
    "    t_bin = np.zeros(n)\n",
    "    f_bin = np.zeros(n)\n",
    "    e_bin = np.zeros(n)\n",
    "    n_bin = np.zeros(n, dtype=np.int)\n",
    "    \n",
    "    for i,n in enumerate(n_in_bin):\n",
    "        if n>= 1:\n",
    "            j = bin_indices == i+1\n",
    "            n_bin[i] = n\n",
    "            t_bin[i] = np.mean(time[j])\n",
    "            f_bin[i] = np.mean(flux[j])\n",
    "            e_bin[i] = np.std(flux[j])/np.sqrt(n-1)\n",
    "    j = (n_bin >= 1)\n",
    "    return t_bin[j], f_bin[j], e_bin[j], n_bin[j]\n",
    "\n",
    "def plot_temperature_by_epoch(flcs, ratios, temperatures, T_star = 2566, sigma_T = 26, timeoff = 4.2545e3, flare_n = 0, flare_table = None, filterkeys = [\"Ratio g/r\",\"Ratio g/z\"], labels = [\"Hö\"], model = False, joint = False, error = False): \n",
    "    \n",
    "    '''\n",
    "    Plot temperature by epoch in lightcurve Howard et al 2020. \n",
    "    \n",
    "    Params:\n",
    "    -------------\n",
    "    flcs : dictionary \n",
    "        dictionary of FlareLightCurves objects\n",
    "    ratios: dictionary\n",
    "        dictionary of ratio functions between the different filters.\n",
    "    temperaturs: 1d array\n",
    "        Temperatures used to calculate the ratios. \n",
    "    T_star: int\n",
    "        Temperature of the star\n",
    "    filterkeys: list \n",
    "        list of wished temperature ratio plots. \n",
    "        Note: The layout has to be \"Ratio filter1/filter2\" where filter1 has the lower central\n",
    "              wavelength than filter2 by convention.\n",
    "    joint : Bool\n",
    "        Default = False. If True all indicated temperatures per ratio are plotted in one figure rather than\n",
    "        in different figures.\n",
    "    error : Bool\n",
    "        Default = False. If Ture errorbars will be plotted on the Temperature.\n",
    "        \n",
    "    Return:\n",
    "    ----------\n",
    "    \n",
    "    temperatures_epoch: 1d array\n",
    "        Temperatures in [K] calculated by epoch using the method of Howard et al. 2020\n",
    "    temperatures_error: 1d array\n",
    "        Temperature errors [K] using Gaussian error porpagation\n",
    "    time: 1d array\n",
    "        time both lightcurves are binned to in JD [d]\n",
    "    \n",
    "    '''\n",
    "\n",
    "    if joint == True:\n",
    "        fig = plt.figure(figsize = [9.6, 7.2])\n",
    "    for i in range(len(filterkeys)): \n",
    "        filterkey = filterkeys[i]\n",
    "        #print(filterkey)\n",
    "        if filterkey in ratios.keys(): \n",
    "            ratio = ratios[filterkey]\n",
    "            temp_cal, temp_cal_err, time_cal, global_flare_temperature, global_flare_error = temperature_by_epoch(flcs[filterkey[-3]], flcs[filterkey[-1]], ratio, temperatures, sigma_T = sigma_T)\n",
    "            time_cal = time_cal - timeoff\n",
    "            print(global_flare_temperature)\n",
    "            print(global_flare_error)\n",
    "            print(np.max(temp_cal))\n",
    "            print(temp_cal_err[np.argmax(temp_cal)])\n",
    "    \n",
    "            if joint == False:\n",
    "                fig = plt.figure(figsize = [9.6, 7.2])\n",
    "                #plt.hlines(T_star, time_cal[0], time_cal[-1], ls =  \"dashed\", color = \"k\", label = r\"$T_\\mathrm{star}$\")\n",
    "            if error == True: \n",
    "                plt.errorbar(time_cal,temp_cal, yerr = temp_cal_err, fmt='', marker='o',ls = \"-\", label = labels[i] ,  capsize=3, capthick=3)\n",
    "                plt.xlim(time_cal[0], time_cal[-1])\n",
    "            else:\n",
    "                plt.plot(time_cal,temp_cal,label = labels[i], marker='o')#, linestyle='None' )\n",
    "                \n",
    "            if model == True:\n",
    "                x1 = np.linspace(time_cal[0],time_cal[-1],5000)\n",
    "                temp_model, temp_model_low, temp_model_up=model_flare_temperatures(flares_df_dic, Temperatures = temperatures, ratios_dic = ratios,timeobs = x1, timeoff = timeoff, filterkey = filterkey, filter1 = filterkey[-3], filter2 = filterkey[-1], flare_n = flare_n)\n",
    "                plt.plot(x1, temp_model, color = \"orange\", label = \"model from best-fit flare profile\") \n",
    "                plt.fill_between(x1, temp_model + temp_model_up , temp_model - temp_model_low,facecolor = \"orange\", alpha = 0.5 )\n",
    "            #plt.grid()\n",
    "            plt.xlabel(r\"Time in RJD - {}  [d]\".format(timeoff))\n",
    "            plt.ylabel(r\"$T_\\mathrm{eff}$ [K]\")\n",
    "            plt.xlim(time_cal[0],time_cal[-1])\n",
    "            #plt.ylim(1000)\n",
    "            if joint == False:\n",
    "                plt.legend(frameon = False)\n",
    "                filter1 = filterkey[-3]\n",
    "                filter2 = filterkey[-1]\n",
    "                if filter1 == \"i\" and filter2 == \"z\":\n",
    "                    plt.ylim(2000,3500)\n",
    "            fig.tight_layout() \n",
    "        else: \n",
    "            print(\"Either are the two filter ratio's not comparable or the argument is invalid.\")\n",
    "    #if joint == True:\n",
    "        #plt.hlines(T_star, time_cal[0], time_cal[-1], linestyle = 'dashed', color = \"k\", label = r\"$T_\\mathrm{star}$\")\n",
    "    plt.legend(frameon = False, loc = \"upper right\")\n",
    "    return \n"
   ]
  },
  {
   "cell_type": "code",
   "execution_count": 11,
   "id": "c1722b84",
   "metadata": {},
   "outputs": [],
   "source": [
    "def global_flare_temperature(ratios_dic, Temperatures, flares_df, filter_response, flarenumber, timing = [timer[3671],4254.6]): \n",
    "    \n",
    "    global_temp, global_temp_upper, global_temp_lower = [],[], []\n",
    "    \n",
    "    j = flarenumber\n",
    "    \n",
    "    flux, flux_err_up, flux_err_low = [], [], []\n",
    "    \n",
    "    for i in range(len(flares_df)):\n",
    "        tpeak, fwhm, ampl = flares_df[i].Tpeak[j], flares_df[i].Fwhm[j], flares_df[i].Ampl[j]\n",
    "        tpeak_up, fwhm_up, ampl_up = flares_df[i].Tpeak[j], flares_df[i].sFwhm[j], flares_df[i].sAmpl[j]\n",
    "        tpeak_low, fwhm_low, ampl_low = flares_df[i].Tpeak[j], flares_df[i].sfwhm[j], flares_df[i].sampl[j]\n",
    "        time = np.linspace(tpeak - 0.02, tpeak + 0.5, 10000)\n",
    "        time = np.linspace(timing[0], timing[1], 10000)\n",
    "        #tpeak_up, fwhm_up, ampl_up = flares_df.Tpeak[j], flares_df.Fwhm[j], flares_df.Ampl[j]\n",
    "        flux.append(np.asarray([1 + aflare1(time, tpeak, fwhm, ampl)]))\n",
    "        flux_err_up.append(np.asarray([aflare1(time, tpeak_up, fwhm_up, ampl_up)]))\n",
    "        flux_err_low.append(np.asarray([aflare1(time, tpeak_low, fwhm_low, ampl_low)]))\n",
    "            \n",
    "            \n",
    "  \n",
    "    for ratio in ratios_dic.keys():\n",
    "        \n",
    "        if ratio[-3] == 'g':\n",
    "            if ratio[-1] == 'r':\n",
    "                n = 1\n",
    "            elif ratio[-1] == 'i':\n",
    "                n = 2\n",
    "            else: \n",
    "                n = 3\n",
    "            \n",
    "            \n",
    "            global_temp.append(find_nearest(ratios_dic[ratio], Temperatures, np.sum(flux[0])/np.sum(flux[n]) )[0]) \n",
    "            global_temp_upper.append(find_nearest(ratios_dic[ratio], Temperatures, np.sqrt((1/np.sum(flux[0]))**2 * np.sum(flux_err_up[0])**2 + (np.sum(flux[0])/np.sum(flux[n]))**2 * np.sum(flux_err_up[n])**2 ))[0])\n",
    "            global_temp_lower.append(find_nearest(ratios_dic[ratio], Temperatures, np.sqrt((1/np.sum(flux[0]))**2 * np.sum(flux_err_low[0])**2 + (np.sum(flux[0])/np.sum(flux[n]))**2 * np.sum(flux_err_low[n])**2 ))[0])\n",
    "            \n",
    "    \n",
    "        if ratio[-3] == 'r':\n",
    "            if ratio[-1] == 'i':\n",
    "                n = 2\n",
    "            else: \n",
    "                n = 3\n",
    "            global_temp.append(find_nearest(ratios_dic[ratio], Temperatures, np.sum(flux[1])/np.sum(flux[n]))[0])\n",
    "            global_temp_upper.append(find_nearest(ratios_dic[ratio], Temperatures, np.sqrt((1/np.sum(flux[1]))**2 * np.sum(flux_err_up[1])**2 + (np.sum(flux[1])/np.sum(flux[n]))**2 * np.sum(flux_err_up[n])**2 ))[0])\n",
    "            global_temp_lower.append(find_nearest(ratios_dic[ratio], Temperatures, np.sqrt((1/np.sum(flux[1]))**2 * np.sum(flux_err_low[1])**2 + (np.sum(flux[1])/np.sum(flux[n]))**2 * np.sum(flux_err_low[n])**2 ))[0])\n",
    "        \n",
    "        if ratio[-3] == 'i':\n",
    "            global_temp.append(find_nearest(ratios_dic[ratio], Temperatures, np.sum(flux[2])/np.sum(flux[3]) )[0])\n",
    "            global_temp_upper.append(find_nearest(ratios_dic[ratio], Temperatures, np.sqrt((1/np.sum(flux[2]))**2 * np.sum(flux_err_up[2])**2 + (np.sum(flux[2])/np.sum(flux[n]))**2 * np.sum(flux_err_up[n])**2 ))[0])\n",
    "            global_temp_lower.append(find_nearest(ratios_dic[ratio], Temperatures, np.sqrt((1/np.sum(flux[2]))**2 * np.sum(flux_err_low[2])**2 + (np.sum(flux[2])/np.sum(flux[n]))**2 * np.sum(flux_err_low[n])**2 ))[0])\n",
    "            \n",
    "    return np.asarray(global_temp), np.asarray(global_temp_upper), np.asarray(global_temp_lower)\n"
   ]
  },
  {
   "cell_type": "code",
   "execution_count": 12,
   "id": "661d5ed7",
   "metadata": {},
   "outputs": [],
   "source": [
    "df_g = pd.read_pickle(\"../data/TRAPPIST1_flares_MuSCAT2/flareprofiles_g.pkl\")\n",
    "df_r = pd.read_pickle(\"../data/TRAPPIST1_flares_MuSCAT2/flareprofiles_r.pkl\")\n",
    "df_i = pd.read_pickle(\"../data/TRAPPIST1_flares_MuSCAT2/flareprofiles_i.pkl\")\n",
    "df_z = pd.read_pickle(\"../data/TRAPPIST1_flares_MuSCAT2/flareprofiles_z.pkl\")\n",
    "\n",
    "\n",
    "flares_df = [df_g, df_r, df_i, df_z]\n",
    "#responses = [response_muscat_g, response_muscat_r, response_muscat_i, response_muscat_z]\n",
    "\n",
    "keys_model = [\"g\",\"r\",\"i\",\"z\"]\n",
    "flares_df_dic = dict(zip(keys_model, flares_df))"
   ]
  },
  {
   "cell_type": "code",
   "execution_count": 13,
   "id": "d716570a",
   "metadata": {},
   "outputs": [
    {
     "name": "stderr",
     "output_type": "stream",
     "text": [
      "/home/aaronmaas/anaconda3/lib/python3.8/site-packages/ipykernel/ipkernel.py:287: DeprecationWarning: `should_run_async` will not call `transform_cell` automatically in the future. Please pass the result to `transformed_cell` argument and any exception that happen during thetransform in `preprocessing_exc_tuple` in IPython 7.17 and above.\n",
      "  and should_run_async(code)\n"
     ]
    }
   ],
   "source": [
    "def model_flare_temperatures(flare_df_dic, timeobs, timeoff, Temperatures, ratios_dic , filterkey, filter1, filter2, flare_n  =0 ): \n",
    "    \n",
    "    \n",
    "    tpeak1 = flares_df_dic[filter1].Tpeak[flare_n] \n",
    "    tpeak2 = flares_df_dic[filter2].Tpeak[flare_n] \n",
    "    fwhm1 = flares_df_dic[filter1].Fwhm[flare_n]\n",
    "    fwhm2 = flares_df_dic[filter2].Fwhm[flare_n]\n",
    "    ampl1 = flares_df_dic[filter1].Ampl[flare_n]\n",
    "    ampl2 = flares_df_dic[filter2].Ampl[flare_n]\n",
    "    fwhm_low1 = flares_df_dic[filter1].sfwhm[flare_n]\n",
    "    fwhm_low2 = flares_df_dic[filter2].sfwhm[flare_n]\n",
    "    fwhm_up1 = flares_df_dic[filter1].sFwhm[flare_n]\n",
    "    fwhm_up2 = flares_df_dic[filter2].sFwhm[flare_n]\n",
    "    ampl_low1 = flares_df_dic[filter1].sampl[flare_n]\n",
    "    ampl_low2 = flares_df_dic[filter2].sampl[flare_n]\n",
    "    ampl_up1 = flares_df_dic[filter1].sampl[flare_n]\n",
    "    ampl_up2 = flares_df_dic[filter2].sampl[flare_n]\n",
    "    \n",
    "    temperatures_epoch, temperature_epoch_err_up, temperature_epoch_err_low = [],[],[]\n",
    "    \n",
    "    \n",
    "    x1 = timeobs  + timeoff\n",
    "    \n",
    "    flux1 = 1 + aflare1(x1, tpeak1, fwhm1, ampl1) \n",
    "    flux2 = 1+aflare1(x1, tpeak2, fwhm2, ampl2)\n",
    "    fluxerr_low1 = aflare1(x1, tpeak1, fwhm_low1, ampl_low1)\n",
    "    fluxerr_upp1 = aflare1(x1,  tpeak1, fwhm_up1, ampl_up1)\n",
    "    fluxerr_low2 = aflare1(x1,  tpeak2, fwhm_low2, ampl_low2 )\n",
    "    fluxerr_upp2 = aflare1(x1, tpeak2, fwhm_up2, ampl_up2)\n",
    "   \n",
    "    for t in range(len(flux1)):\n",
    "        ratio_rec = flux1[t]/flux2[t] #- offset \n",
    "        temperatures_epoch.append(find_nearest(ratios_dic[filterkey], Temperatures ,ratio_rec)[0]) \n",
    "        temperature_epoch_err_up.append(find_nearest(ratios_dic[filterkey], Temperatures,  1/flux2[t]*np.sqrt(fluxerr_upp1[t]**2   +  ratio_rec**2 * fluxerr_upp2[t]**2 ))[0])\n",
    "        temperature_epoch_err_low.append(find_nearest(ratios_dic[filterkey], Temperatures,  1/flux2[t]*np.sqrt(fluxerr_low1[t]**2   +  ratio_rec**2 * fluxerr_low2[t]**2 ))[0])\n",
    "    \n",
    "    return np.asarray(temperatures_epoch), np.asarray(temperature_epoch_err_up), np.asarray(temperature_epoch_err_low)"
   ]
  },
  {
   "cell_type": "code",
   "execution_count": 14,
   "id": "a8130fb3",
   "metadata": {},
   "outputs": [],
   "source": [
    "def weighted_avg_and_std(values, weights):\n",
    "    \"\"\"\n",
    "    Return the weighted average and standard deviation.\n",
    "\n",
    "    values, weights -- Numpy ndarrays with the same shape.\n",
    "    \"\"\"\n",
    "    average = np.average(values, weights=weights)\n",
    "    # Fast and numerically precise:\n",
    "    variance = np.average((values-average)**2, weights=weights)\n",
    "    return (average, np.sqrt(variance))"
   ]
  },
  {
   "cell_type": "code",
   "execution_count": 36,
   "id": "5ae7a603",
   "metadata": {},
   "outputs": [
    {
     "name": "stderr",
     "output_type": "stream",
     "text": [
      "/home/aaronmaas/anaconda3/lib/python3.8/site-packages/ipykernel/ipkernel.py:287: DeprecationWarning: `should_run_async` will not call `transform_cell` automatically in the future. Please pass the result to `transformed_cell` argument and any exception that happen during thetransform in `preprocessing_exc_tuple` in IPython 7.17 and above.\n",
      "  and should_run_async(code)\n"
     ]
    }
   ],
   "source": [
    "flare1_weighted_sum = [7000,6300,5600] \n",
    "#weights=1/np.asarray([2500,3100,3300])**2\n",
    "\n",
    "flare2_weighted_sum = [6200,5700,5100] \n",
    "weights=1/np.asarray([2100,2600,2800])**2"
   ]
  },
  {
   "cell_type": "code",
   "execution_count": 40,
   "id": "5cf4e1b3",
   "metadata": {},
   "outputs": [
    {
     "name": "stderr",
     "output_type": "stream",
     "text": [
      "/home/aaronmaas/anaconda3/lib/python3.8/site-packages/ipykernel/ipkernel.py:287: DeprecationWarning: `should_run_async` will not call `transform_cell` automatically in the future. Please pass the result to `transformed_cell` argument and any exception that happen during thetransform in `preprocessing_exc_tuple` in IPython 7.17 and above.\n",
      "  and should_run_async(code)\n"
     ]
    }
   ],
   "source": [
    "flare1_weighted_peak_sum = [11800,11200,8200] \n",
    "weights=1/np.asarray([2300,3100,3250])**2\n",
    "\n",
    "flare2_weighted_peak_sum = [8420,7350,6300] \n",
    "#weights=1/np.asarray([1850,2600,2600])**2"
   ]
  },
  {
   "cell_type": "code",
   "execution_count": 41,
   "id": "e01bf5ac",
   "metadata": {},
   "outputs": [
    {
     "data": {
      "text/plain": [
       "(10760.041595797484, 1476.2466981069556)"
      ]
     },
     "execution_count": 41,
     "metadata": {},
     "output_type": "execute_result"
    }
   ],
   "source": [
    "weighted_avg_and_std(flare1_weighted_peak_sum, weights)"
   ]
  },
  {
   "cell_type": "code",
   "execution_count": null,
   "id": "23718190",
   "metadata": {},
   "outputs": [],
   "source": []
  }
 ],
 "metadata": {
  "kernelspec": {
   "display_name": "Python 3",
   "language": "python",
   "name": "python3"
  },
  "language_info": {
   "codemirror_mode": {
    "name": "ipython",
    "version": 3
   },
   "file_extension": ".py",
   "mimetype": "text/x-python",
   "name": "python",
   "nbconvert_exporter": "python",
   "pygments_lexer": "ipython3",
   "version": "3.8.8"
  }
 },
 "nbformat": 4,
 "nbformat_minor": 5
}
