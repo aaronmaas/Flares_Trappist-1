{
 "cells": [
  {
   "cell_type": "code",
   "execution_count": 201,
   "id": "2d9627ee",
   "metadata": {},
   "outputs": [],
   "source": [
    "import numpy as np \n",
    "import matplotlib.pyplot as plt \n",
    "import astropy.units as au\n",
    "import astropy.constants as ca\n"
   ]
  },
  {
   "cell_type": "code",
   "execution_count": 202,
   "id": "61650018",
   "metadata": {},
   "outputs": [],
   "source": [
    "#Semi empirical model + error for spectrum TRAPPIST-1 from Wilson et al 2021\n",
    "trappist_SED = np.genfromtxt(\"../data/TRAPPIST1_Semimodel_Wilson/TRAPPIST-1_model_const_res_v07.ecsv\", delimiter = \"\")\n",
    "#unit erg A^-1 t^-1 cm^-2 "
   ]
  },
  {
   "cell_type": "code",
   "execution_count": 203,
   "id": "82f8a706",
   "metadata": {},
   "outputs": [],
   "source": [
    "flux_TRAP = trappist_SED[:,1]  * au.erg * au.cm**(-2) * au.s**(-1) * au.Angstrom**(-1)\n",
    "flux_TRAP = flux_TRAP.to(\"J/(m^3 * s^1)\")"
   ]
  },
  {
   "cell_type": "code",
   "execution_count": 204,
   "id": "1ccdf78b",
   "metadata": {
    "scrolled": false
   },
   "outputs": [],
   "source": [
    "#Import Muscat response function (bandpass only \n",
    "#no detector efficency)\n",
    "import numpy as np\n",
    "iters = [\"g\", \"r\", \"i\", \"z\"]\n",
    "limit = []\n",
    "\n",
    "for i in iters: \n",
    "    #limit are the limits of the passband in wavelength \n",
    "    limit.append(np.load(\"../data/MuSCAT2_response/MuSCAT2_limit_{}.npy\".format(str(i))))\n"
   ]
  },
  {
   "cell_type": "code",
   "execution_count": 205,
   "id": "c5dec6bf",
   "metadata": {},
   "outputs": [
    {
     "data": {
      "text/latex": [
       "$[1.5065431 \\times 10^{-6},~4.0466897 \\times 10^{-6},~3.2712824 \\times 10^{-5},~6.7873797 \\times 10^{-5}] \\; \\mathrm{\\frac{J}{s\\,m^{2}}}$"
      ],
      "text/plain": [
       "<Quantity [1.50654308e-06, 4.04668968e-06, 3.27128241e-05, 6.78737967e-05] J / (m2 s)>"
      ]
     },
     "execution_count": 205,
     "metadata": {},
     "output_type": "execute_result"
    }
   ],
   "source": [
    "#apparent brightness of TRAPPIST-1 in each bandpass at Earth\n",
    "brightness_TRAP = np.asarray([np.trapz(flux_TRAP[limit[i][0]:limit[i][1]].value) for i in range(len(iters)) ] ) * au.J * au.m**(-2) * au.s**(-1)  \n",
    "brightness_TRAP"
   ]
  },
  {
   "cell_type": "code",
   "execution_count": 206,
   "id": "3b80743b",
   "metadata": {},
   "outputs": [
    {
     "data": {
      "text/latex": [
       "$[2.7844613 \\times 10^{30},~7.4792754 \\times 10^{30},~6.0461326 \\times 10^{31},~1.2544743 \\times 10^{32}] \\; \\mathrm{W}$"
      ],
      "text/plain": [
       "<Quantity [2.78446126e+30, 7.47927544e+30, 6.04613256e+31, 1.25447430e+32] W>"
      ]
     },
     "execution_count": 206,
     "metadata": {},
     "output_type": "execute_result"
    }
   ],
   "source": [
    "lumi_TRAP = brightness_TRAP.to(\"W/m^2\")*(4*np.pi*(dist_TRAP*au.m )**2)\n",
    "lumi_TRAP"
   ]
  },
  {
   "cell_type": "code",
   "execution_count": 208,
   "id": "2b804b48",
   "metadata": {},
   "outputs": [
    {
     "ename": "FileNotFoundError",
     "evalue": "[Errno 2] No such file or directory: '../results/values/brightness.txt'",
     "output_type": "error",
     "traceback": [
      "\u001b[0;31m---------------------------------------------------------------------------\u001b[0m",
      "\u001b[0;31mFileNotFoundError\u001b[0m                         Traceback (most recent call last)",
      "\u001b[0;32m<ipython-input-208-51173c77e605>\u001b[0m in \u001b[0;36m<module>\u001b[0;34m\u001b[0m\n\u001b[0;32m----> 1\u001b[0;31m \u001b[0;32mwith\u001b[0m \u001b[0mopen\u001b[0m\u001b[0;34m(\u001b[0m\u001b[0;34m\"../results/values/brightness.txt\"\u001b[0m\u001b[0;34m,\u001b[0m \u001b[0;34m\"w+\"\u001b[0m\u001b[0;34m)\u001b[0m \u001b[0;32mas\u001b[0m \u001b[0mf\u001b[0m\u001b[0;34m:\u001b[0m\u001b[0;34m\u001b[0m\u001b[0;34m\u001b[0m\u001b[0m\n\u001b[0m\u001b[1;32m      2\u001b[0m     \u001b[0mf\u001b[0m\u001b[0;34m.\u001b[0m\u001b[0mwrite\u001b[0m\u001b[0;34m(\u001b[0m\u001b[0mstr\u001b[0m\u001b[0;34m(\u001b[0m\u001b[0mbrightness_TRAP\u001b[0m\u001b[0;34m.\u001b[0m\u001b[0mvalue\u001b[0m\u001b[0;34m)\u001b[0m\u001b[0;34m)\u001b[0m\u001b[0;34m\u001b[0m\u001b[0;34m\u001b[0m\u001b[0m\n\u001b[1;32m      3\u001b[0m     \u001b[0mf\u001b[0m\u001b[0;34m.\u001b[0m\u001b[0mwrite\u001b[0m\u001b[0;34m(\u001b[0m\u001b[0mstr\u001b[0m\u001b[0;34m(\u001b[0m\u001b[0mlumi_TRAOP\u001b[0m\u001b[0;34m.\u001b[0m\u001b[0mvalue\u001b[0m\u001b[0;34m)\u001b[0m\u001b[0;34m)\u001b[0m\u001b[0;34m\u001b[0m\u001b[0;34m\u001b[0m\u001b[0m\n",
      "\u001b[0;31mFileNotFoundError\u001b[0m: [Errno 2] No such file or directory: '../results/values/brightness.txt'"
     ]
    }
   ],
   "source": [
    "with open(\"../results/values/brightness.txt\", \"w+\") as f:\n",
    "    f.write(str(brightness_TRAP.value))\n",
    "    f.write(str(lumi_TRAOP.value)) "
   ]
  },
  {
   "cell_type": "code",
   "execution_count": null,
   "id": "caefbe85",
   "metadata": {},
   "outputs": [],
   "source": []
  }
 ],
 "metadata": {
  "kernelspec": {
   "display_name": "Python 3",
   "language": "python",
   "name": "python3"
  },
  "language_info": {
   "codemirror_mode": {
    "name": "ipython",
    "version": 3
   },
   "file_extension": ".py",
   "mimetype": "text/x-python",
   "name": "python",
   "nbconvert_exporter": "python",
   "pygments_lexer": "ipython3",
   "version": "3.8.8"
  }
 },
 "nbformat": 4,
 "nbformat_minor": 5
}
