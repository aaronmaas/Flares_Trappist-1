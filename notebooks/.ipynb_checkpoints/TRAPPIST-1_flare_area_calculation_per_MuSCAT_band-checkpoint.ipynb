{
 "cells": [
  {
   "cell_type": "markdown",
   "id": "45403936",
   "metadata": {},
   "source": [
    "\\begin{align}\n",
    "    F_\\lambda = \\frac{A_{flare} B_\\lambda(T_{flare})}{d^2}\n",
    "\\end{align}\n",
    "\n",
    "\\begin{align}\n",
    "    \\frac{A_{flare}}{A_{star}} = \\frac{B_\\lambda(T_{star})}{B_\\lambda(T_{flare})} \\times \\frac{F_\\lambda}{F_\\mathrm{star}}\n",
    "\\end{align}"
   ]
  },
  {
   "cell_type": "code",
   "execution_count": 1,
   "id": "fd6827f4",
   "metadata": {},
   "outputs": [],
   "source": [
    "from funcs.color_temperatures import blackbodyw\n",
    "import numpy as np \n",
    "import matplotlib.pyplot as plt\n",
    "import pandas as pd"
   ]
  },
  {
   "cell_type": "code",
   "execution_count": 2,
   "id": "18427dd9",
   "metadata": {},
   "outputs": [],
   "source": [
    "T_star = 2648 \n",
    "T_flare = 7950\n",
    "T_flare2 = 6040"
   ]
  },
  {
   "cell_type": "code",
   "execution_count": 3,
   "id": "5a3ede62",
   "metadata": {},
   "outputs": [],
   "source": [
    "flare1 = np.genfromtxt(\"../results/values/brightness_flare1_TRAPPIST-1.txt\",delimiter=\",\" , skip_header=1)"
   ]
  },
  {
   "cell_type": "code",
   "execution_count": 4,
   "id": "32ca2153",
   "metadata": {},
   "outputs": [],
   "source": [
    "response = pd.read_csv(\"../data/MuSCAT2_response/MuSCAT2_response.csv\")"
   ]
  },
  {
   "cell_type": "code",
   "execution_count": 5,
   "id": "8eabca33",
   "metadata": {},
   "outputs": [
    {
     "data": {
      "text/html": [
       "<div>\n",
       "<style scoped>\n",
       "    .dataframe tbody tr th:only-of-type {\n",
       "        vertical-align: middle;\n",
       "    }\n",
       "\n",
       "    .dataframe tbody tr th {\n",
       "        vertical-align: top;\n",
       "    }\n",
       "\n",
       "    .dataframe thead th {\n",
       "        text-align: right;\n",
       "    }\n",
       "</style>\n",
       "<table border=\"1\" class=\"dataframe\">\n",
       "  <thead>\n",
       "    <tr style=\"text-align: right;\">\n",
       "      <th></th>\n",
       "      <th>wavelength</th>\n",
       "      <th>Filter_g</th>\n",
       "      <th>Filter_r</th>\n",
       "      <th>Filter_i</th>\n",
       "      <th>Filter_z</th>\n",
       "      <th>Total_g</th>\n",
       "      <th>Total_r</th>\n",
       "      <th>Total_i</th>\n",
       "      <th>Total_z</th>\n",
       "      <th>Atmosphere</th>\n",
       "    </tr>\n",
       "  </thead>\n",
       "  <tbody>\n",
       "    <tr>\n",
       "      <th>0</th>\n",
       "      <td>395.0</td>\n",
       "      <td>0.000</td>\n",
       "      <td>0.0</td>\n",
       "      <td>0.0</td>\n",
       "      <td>0.000</td>\n",
       "      <td>0.000</td>\n",
       "      <td>0.0</td>\n",
       "      <td>0.0</td>\n",
       "      <td>0.0</td>\n",
       "      <td>0.703</td>\n",
       "    </tr>\n",
       "    <tr>\n",
       "      <th>1</th>\n",
       "      <td>395.5</td>\n",
       "      <td>0.000</td>\n",
       "      <td>0.0</td>\n",
       "      <td>0.0</td>\n",
       "      <td>0.000</td>\n",
       "      <td>0.000</td>\n",
       "      <td>0.0</td>\n",
       "      <td>0.0</td>\n",
       "      <td>0.0</td>\n",
       "      <td>0.704</td>\n",
       "    </tr>\n",
       "    <tr>\n",
       "      <th>2</th>\n",
       "      <td>396.0</td>\n",
       "      <td>0.001</td>\n",
       "      <td>0.0</td>\n",
       "      <td>0.0</td>\n",
       "      <td>0.000</td>\n",
       "      <td>0.000</td>\n",
       "      <td>0.0</td>\n",
       "      <td>0.0</td>\n",
       "      <td>0.0</td>\n",
       "      <td>0.705</td>\n",
       "    </tr>\n",
       "    <tr>\n",
       "      <th>3</th>\n",
       "      <td>396.5</td>\n",
       "      <td>0.001</td>\n",
       "      <td>0.0</td>\n",
       "      <td>0.0</td>\n",
       "      <td>0.000</td>\n",
       "      <td>0.000</td>\n",
       "      <td>0.0</td>\n",
       "      <td>0.0</td>\n",
       "      <td>0.0</td>\n",
       "      <td>0.706</td>\n",
       "    </tr>\n",
       "    <tr>\n",
       "      <th>4</th>\n",
       "      <td>397.0</td>\n",
       "      <td>0.001</td>\n",
       "      <td>0.0</td>\n",
       "      <td>0.0</td>\n",
       "      <td>0.000</td>\n",
       "      <td>0.001</td>\n",
       "      <td>0.0</td>\n",
       "      <td>0.0</td>\n",
       "      <td>0.0</td>\n",
       "      <td>0.707</td>\n",
       "    </tr>\n",
       "    <tr>\n",
       "      <th>...</th>\n",
       "      <td>...</td>\n",
       "      <td>...</td>\n",
       "      <td>...</td>\n",
       "      <td>...</td>\n",
       "      <td>...</td>\n",
       "      <td>...</td>\n",
       "      <td>...</td>\n",
       "      <td>...</td>\n",
       "      <td>...</td>\n",
       "      <td>...</td>\n",
       "    </tr>\n",
       "    <tr>\n",
       "      <th>1068</th>\n",
       "      <td>931.0</td>\n",
       "      <td>0.000</td>\n",
       "      <td>0.0</td>\n",
       "      <td>0.0</td>\n",
       "      <td>0.001</td>\n",
       "      <td>0.000</td>\n",
       "      <td>0.0</td>\n",
       "      <td>0.0</td>\n",
       "      <td>0.0</td>\n",
       "      <td>0.859</td>\n",
       "    </tr>\n",
       "    <tr>\n",
       "      <th>1069</th>\n",
       "      <td>931.5</td>\n",
       "      <td>0.000</td>\n",
       "      <td>0.0</td>\n",
       "      <td>0.0</td>\n",
       "      <td>0.001</td>\n",
       "      <td>0.000</td>\n",
       "      <td>0.0</td>\n",
       "      <td>0.0</td>\n",
       "      <td>0.0</td>\n",
       "      <td>0.829</td>\n",
       "    </tr>\n",
       "    <tr>\n",
       "      <th>1070</th>\n",
       "      <td>932.0</td>\n",
       "      <td>0.000</td>\n",
       "      <td>0.0</td>\n",
       "      <td>0.0</td>\n",
       "      <td>0.001</td>\n",
       "      <td>0.000</td>\n",
       "      <td>0.0</td>\n",
       "      <td>0.0</td>\n",
       "      <td>0.0</td>\n",
       "      <td>0.798</td>\n",
       "    </tr>\n",
       "    <tr>\n",
       "      <th>1071</th>\n",
       "      <td>932.5</td>\n",
       "      <td>0.000</td>\n",
       "      <td>0.0</td>\n",
       "      <td>0.0</td>\n",
       "      <td>0.000</td>\n",
       "      <td>0.000</td>\n",
       "      <td>0.0</td>\n",
       "      <td>0.0</td>\n",
       "      <td>0.0</td>\n",
       "      <td>0.767</td>\n",
       "    </tr>\n",
       "    <tr>\n",
       "      <th>1072</th>\n",
       "      <td>933.0</td>\n",
       "      <td>0.000</td>\n",
       "      <td>0.0</td>\n",
       "      <td>0.0</td>\n",
       "      <td>0.000</td>\n",
       "      <td>0.000</td>\n",
       "      <td>0.0</td>\n",
       "      <td>0.0</td>\n",
       "      <td>0.0</td>\n",
       "      <td>0.738</td>\n",
       "    </tr>\n",
       "  </tbody>\n",
       "</table>\n",
       "<p>1073 rows × 10 columns</p>\n",
       "</div>"
      ],
      "text/plain": [
       "      wavelength  Filter_g  Filter_r  Filter_i  Filter_z  Total_g  Total_r  \\\n",
       "0          395.0     0.000       0.0       0.0     0.000    0.000      0.0   \n",
       "1          395.5     0.000       0.0       0.0     0.000    0.000      0.0   \n",
       "2          396.0     0.001       0.0       0.0     0.000    0.000      0.0   \n",
       "3          396.5     0.001       0.0       0.0     0.000    0.000      0.0   \n",
       "4          397.0     0.001       0.0       0.0     0.000    0.001      0.0   \n",
       "...          ...       ...       ...       ...       ...      ...      ...   \n",
       "1068       931.0     0.000       0.0       0.0     0.001    0.000      0.0   \n",
       "1069       931.5     0.000       0.0       0.0     0.001    0.000      0.0   \n",
       "1070       932.0     0.000       0.0       0.0     0.001    0.000      0.0   \n",
       "1071       932.5     0.000       0.0       0.0     0.000    0.000      0.0   \n",
       "1072       933.0     0.000       0.0       0.0     0.000    0.000      0.0   \n",
       "\n",
       "      Total_i  Total_z  Atmosphere  \n",
       "0         0.0      0.0       0.703  \n",
       "1         0.0      0.0       0.704  \n",
       "2         0.0      0.0       0.705  \n",
       "3         0.0      0.0       0.706  \n",
       "4         0.0      0.0       0.707  \n",
       "...       ...      ...         ...  \n",
       "1068      0.0      0.0       0.859  \n",
       "1069      0.0      0.0       0.829  \n",
       "1070      0.0      0.0       0.798  \n",
       "1071      0.0      0.0       0.767  \n",
       "1072      0.0      0.0       0.738  \n",
       "\n",
       "[1073 rows x 10 columns]"
      ]
     },
     "execution_count": 5,
     "metadata": {},
     "output_type": "execute_result"
    }
   ],
   "source": [
    "response.fillna(0)"
   ]
  },
  {
   "cell_type": "code",
   "execution_count": 6,
   "id": "b56e88ea",
   "metadata": {},
   "outputs": [],
   "source": [
    "from funcs.aflare1 import aflare1 "
   ]
  },
  {
   "cell_type": "code",
   "execution_count": 7,
   "id": "6b6cc445",
   "metadata": {},
   "outputs": [],
   "source": [
    "g_gilter = pd.read_pickle(\"../data/TRAPPIST1_flares_MuSCAT2/flareprofiles_g.pkl\")\n",
    "r_gilter = pd.read_pickle(\"../data/TRAPPIST1_flares_MuSCAT2/flareprofiles_r.pkl\")\n",
    "i_gilter = pd.read_pickle(\"../data/TRAPPIST1_flares_MuSCAT2/flareprofiles_i.pkl\")\n",
    "z_gilter = pd.read_pickle(\"../data/TRAPPIST1_flares_MuSCAT2/flareprofiles_z.pkl\")"
   ]
  },
  {
   "cell_type": "code",
   "execution_count": 8,
   "id": "3f6a5ffc",
   "metadata": {},
   "outputs": [
    {
     "data": {
      "text/html": [
       "<div>\n",
       "<style scoped>\n",
       "    .dataframe tbody tr th:only-of-type {\n",
       "        vertical-align: middle;\n",
       "    }\n",
       "\n",
       "    .dataframe tbody tr th {\n",
       "        vertical-align: top;\n",
       "    }\n",
       "\n",
       "    .dataframe thead th {\n",
       "        text-align: right;\n",
       "    }\n",
       "</style>\n",
       "<table border=\"1\" class=\"dataframe\">\n",
       "  <thead>\n",
       "    <tr style=\"text-align: right;\">\n",
       "      <th></th>\n",
       "      <th>index</th>\n",
       "      <th>Tpeak</th>\n",
       "      <th>stpeak</th>\n",
       "      <th>sTpeak</th>\n",
       "      <th>Fwhm</th>\n",
       "      <th>sfwhm</th>\n",
       "      <th>sFwhm</th>\n",
       "      <th>Ampl</th>\n",
       "      <th>sampl</th>\n",
       "      <th>sAmpl</th>\n",
       "      <th>ED</th>\n",
       "      <th>sed</th>\n",
       "      <th>sED</th>\n",
       "    </tr>\n",
       "  </thead>\n",
       "  <tbody>\n",
       "    <tr>\n",
       "      <th>0</th>\n",
       "      <td>0</td>\n",
       "      <td>4254.553891</td>\n",
       "      <td>0.000057</td>\n",
       "      <td>0.000040</td>\n",
       "      <td>0.002911</td>\n",
       "      <td>0.000324</td>\n",
       "      <td>0.000122</td>\n",
       "      <td>2.536813</td>\n",
       "      <td>0.031736</td>\n",
       "      <td>0.057429</td>\n",
       "      <td>1165.247824</td>\n",
       "      <td>141.798393</td>\n",
       "      <td>23.955743</td>\n",
       "    </tr>\n",
       "    <tr>\n",
       "      <th>1</th>\n",
       "      <td>1</td>\n",
       "      <td>4306.433293</td>\n",
       "      <td>0.000072</td>\n",
       "      <td>0.000079</td>\n",
       "      <td>0.003886</td>\n",
       "      <td>0.000252</td>\n",
       "      <td>0.000546</td>\n",
       "      <td>1.145481</td>\n",
       "      <td>0.041230</td>\n",
       "      <td>0.048867</td>\n",
       "      <td>587.995275</td>\n",
       "      <td>48.478983</td>\n",
       "      <td>86.625805</td>\n",
       "    </tr>\n",
       "  </tbody>\n",
       "</table>\n",
       "</div>"
      ],
      "text/plain": [
       "   index        Tpeak    stpeak    sTpeak      Fwhm     sfwhm     sFwhm  \\\n",
       "0      0  4254.553891  0.000057  0.000040  0.002911  0.000324  0.000122   \n",
       "1      1  4306.433293  0.000072  0.000079  0.003886  0.000252  0.000546   \n",
       "\n",
       "       Ampl     sampl     sAmpl           ED         sed        sED  \n",
       "0  2.536813  0.031736  0.057429  1165.247824  141.798393  23.955743  \n",
       "1  1.145481  0.041230  0.048867   587.995275   48.478983  86.625805  "
      ]
     },
     "execution_count": 8,
     "metadata": {},
     "output_type": "execute_result"
    }
   ],
   "source": [
    "g_gilter "
   ]
  },
  {
   "cell_type": "code",
   "execution_count": 9,
   "id": "5d0345b7",
   "metadata": {},
   "outputs": [],
   "source": [
    "timeobs = np.linspace(4254.547, 4254.75,1000)\n",
    "timeobs2 = np.linspace(4306.429, 4306.65,1000)"
   ]
  },
  {
   "cell_type": "code",
   "execution_count": 10,
   "id": "8270f165",
   "metadata": {},
   "outputs": [],
   "source": [
    "# take the mean values \n",
    "g_mean = np.mean(aflare1(timeobs,4254.55, 0.002911, 2.536813)[aflare1(timeobs,4254.55, 0.002911, 2.536813)!=0])  \n",
    "r_mean = np.mean(aflare1(timeobs,4254.55, 0.003241, 0.761855)[aflare1(timeobs,4254.55, 0.003241, 0.761855)!=0])  \n",
    "i_mean = np.mean(aflare1(timeobs,4254.55, 0.002058, 0.080390)[aflare1(timeobs,4254.55, 0.002058, 0.080390)!= 0])  \n",
    "z_mean = np.mean(aflare1(timeobs,4254.55, 0.001098, 0.041576)[aflare1(timeobs,4254.55, 0.001098, 0.041576) != 0])  \n",
    "\n",
    "g_mean2 = np.mean(aflare1(timeobs2,4306.433293, 0.003886, 1.145481)[aflare1(timeobs2,4306.433293, 0.003886, 1.145481) != 0])  \n",
    "r_mean2 = np.mean(aflare1(timeobs2,4306.433293, 0.005018, 0.376393)[aflare1(timeobs2,4306.433293, 0.005018, 0.376393) != 0])  \n",
    "i_mean2 = np.mean(aflare1(timeobs2,4306.433293, 0.003761, 0.035423)[aflare1(timeobs2,4306.433293, 0.003761, 0.035423) != 0])  \n",
    "z_mean2 = np.mean(aflare1(timeobs2,4306.433293, 0.000862, 0.022422)[aflare1(timeobs2,4306.433293, 0.000862, 0.022422) != 0])  "
   ]
  },
  {
   "cell_type": "code",
   "execution_count": 11,
   "id": "3c49a80e",
   "metadata": {},
   "outputs": [
    {
     "name": "stderr",
     "output_type": "stream",
     "text": [
      "NumExpr defaulting to 8 threads.\n"
     ]
    }
   ],
   "source": [
    "# Use formula two\n",
    "A_flareg = np.nansum(blackbodyw(response[\"wavelength\"],T_star, response[\"Filter_g\"]))/np.nansum(blackbodyw(response[\"wavelength\"],T_flare, response[\"Filter_g\"]))*g_mean\n",
    "A_flarer = np.nansum(blackbodyw(response[\"wavelength\"],T_star, response[\"Filter_r\"]))/np.nansum(blackbodyw(response[\"wavelength\"],T_flare, response[\"Filter_r\"]))*r_mean \n",
    "A_flarei = np.nansum(blackbodyw(response[\"wavelength\"],T_star, response[\"Filter_i\"]))/np.nansum(blackbodyw(response[\"wavelength\"],T_flare, response[\"Filter_i\"]))*i_mean\n",
    "A_flarez = np.nansum(blackbodyw(response[\"wavelength\"],T_star, response[\"Filter_z\"]))/np.nansum(blackbodyw(response[\"wavelength\"],T_flare, response[\"Filter_z\"]))*z_mean \n",
    "\n",
    "A_flareg2 = np.nansum(blackbodyw(response[\"wavelength\"],T_star, response[\"Filter_g\"]))/np.nansum(blackbodyw(response[\"wavelength\"],T_flare2, response[\"Filter_g\"]))*g_mean2\n",
    "A_flarer2 = np.nansum(blackbodyw(response[\"wavelength\"],T_star, response[\"Filter_r\"]))/np.nansum(blackbodyw(response[\"wavelength\"],T_flare2, response[\"Filter_r\"]))*r_mean2\n",
    "A_flarei2 = np.nansum(blackbodyw(response[\"wavelength\"],T_star, response[\"Filter_i\"]))/np.nansum(blackbodyw(response[\"wavelength\"],T_flare2, response[\"Filter_i\"]))*i_mean2\n",
    "A_flarez2 = np.nansum(blackbodyw(response[\"wavelength\"],T_star, response[\"Filter_z\"]))/np.nansum(blackbodyw(response[\"wavelength\"],T_flare2, response[\"Filter_z\"]))*z_mean2 "
   ]
  },
  {
   "cell_type": "code",
   "execution_count": 12,
   "id": "398cbe48",
   "metadata": {},
   "outputs": [
    {
     "data": {
      "text/plain": [
       "(0.02213257066577392,\n",
       " 0.007392083836898215,\n",
       " 0.0004978207305428708,\n",
       " 0.00013798173037042307)"
      ]
     },
     "execution_count": 12,
     "metadata": {},
     "output_type": "execute_result"
    }
   ],
   "source": [
    "#areas are different for different passbands \n",
    "A_flareg, A_flarer, A_flarei, A_flarez"
   ]
  },
  {
   "cell_type": "code",
   "execution_count": 13,
   "id": "e79131d5",
   "metadata": {},
   "outputs": [
    {
     "data": {
      "text/plain": [
       "(0.016146193024212906,\n",
       " 0.00683348915511596,\n",
       " 0.0004836915605725607,\n",
       " 7.082918566380017e-05)"
      ]
     },
     "execution_count": 13,
     "metadata": {},
     "output_type": "execute_result"
    }
   ],
   "source": [
    "A_flareg2, A_flarer2, A_flarei2, A_flarez2"
   ]
  }
 ],
 "metadata": {
  "kernelspec": {
   "display_name": "Python 3 (ipykernel)",
   "language": "python",
   "name": "python3"
  },
  "language_info": {
   "codemirror_mode": {
    "name": "ipython",
    "version": 3
   },
   "file_extension": ".py",
   "mimetype": "text/x-python",
   "name": "python",
   "nbconvert_exporter": "python",
   "pygments_lexer": "ipython3",
   "version": "3.8.8"
  }
 },
 "nbformat": 4,
 "nbformat_minor": 5
}
