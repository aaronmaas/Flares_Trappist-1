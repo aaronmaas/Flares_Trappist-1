{
 "cells": [
  {
   "cell_type": "code",
   "execution_count": 8,
   "id": "a2de3223",
   "metadata": {},
   "outputs": [],
   "source": [
    "import numpy as np \n",
    "import pandas as pd\n",
    "from scipy.integrate import trapz as tp \n",
    "from funcs.aflare1 import aflare1\n",
    "from funcs.blackbody_model import _brightness_mod"
   ]
  },
  {
   "cell_type": "code",
   "execution_count": 9,
   "id": "329d4e41",
   "metadata": {},
   "outputs": [],
   "source": [
    "#load muscat response\n",
    "muscat = pd.read_csv(\"../data/MuSCAT2_response/MuSCAT2_response.csv\")\n",
    "\n",
    "#fill NAN add lamb column\n",
    "muscat = muscat.fillna(0) \n",
    "muscat[\"lamb\"] = muscat.wavelength*1e1   #Angstrom\n",
    "wavelength = muscat.wavelength * 1e-9"
   ]
  },
  {
   "cell_type": "code",
   "execution_count": 10,
   "id": "18fe057f",
   "metadata": {},
   "outputs": [],
   "source": [
    "#load caluclated apparent brightness for trappist-1 and SED from trappist1 (Wilson et al 2021)\n",
    "\n",
    "trappist = np.genfromtxt(\"../results/values/brightness_TRAPPIST-1.txt\", delimiter= \",\", skip_header=1)\n",
    "trappist_SED = np.genfromtxt(\"../data/TRAPPIST1_Semimodel_Wilson/TRAPPIST-1_model_const_res_v07.ecsv\")\n",
    "#trappistflux_M2 = np.genfromtxt(\"../results/values/brightness_TRAPPIST-1_withCCDeffeciency.txt\", delimiter= \",\", skip_header=1)"
   ]
  },
  {
   "cell_type": "code",
   "execution_count": 11,
   "id": "973cf4f7",
   "metadata": {},
   "outputs": [],
   "source": [
    "wavelength_SED, flux_SED = trappist_SED[:,0]*1e-10, trappist_SED[:,1]\n",
    "\n",
    "#flux is in erg cm-2 -s A\n",
    "\n",
    "#Import M2 response, passband limits\n",
    "iters = [\"g\", \"r\", \"i\", \"z\"]\n",
    "limit, wavelength_M2, response_M2 = [], [], []\n",
    "\n",
    "for i in iters: \n",
    "    #limit are the limits of the passband in wavelength \n",
    "    limit.append(np.load(\"../data/MuSCAT2_response/MuSCAT2_limit_{}.npy\".format(str(i))))\n",
    "    wavelength_M2.append(np.load(\"../data/MuSCAT2_response/MuSCAT2_wavelength_{}.npy\".format(str(i))))\n",
    "    response_M2.append(np.load(\"../data/MuSCAT2_response/MuSCAT2_response_{}_bandpass.npy\".format(str(i))))"
   ]
  },
  {
   "cell_type": "code",
   "execution_count": 12,
   "id": "e0c0da77",
   "metadata": {},
   "outputs": [],
   "source": [
    "import astropy.units as u \n",
    "flux_SED = flux_SED * u.erg * u.s**(-1) *u.cm**(-2) * u.Angstrom**(-1)\n",
    "flux_SED = flux_SED.to(\"W m^-3\")\n",
    "flux_SED = flux_SED.value\n",
    "\n",
    "import astropy.constants as ca \n",
    "t_star = 2648 #[K] #Wilson et al 2021\n",
    "r_star = 0.1192 * ca.R_sun.value\n",
    "dist_star = dist_TRAP = 3.835084e+17 #[m]"
   ]
  },
  {
   "cell_type": "code",
   "execution_count": 13,
   "id": "a1301152",
   "metadata": {},
   "outputs": [],
   "source": [
    "flare_SED = _brightness_mod(wavelength_SED, limit, 7000, 1e-5, flux_SED, t_star, r_star, dist_star)"
   ]
  },
  {
   "cell_type": "code",
   "execution_count": 14,
   "id": "20244c61",
   "metadata": {},
   "outputs": [],
   "source": [
    "flare_SED_error = flare_SED * 0.5"
   ]
  },
  {
   "cell_type": "code",
   "execution_count": null,
   "id": "35d14224",
   "metadata": {},
   "outputs": [],
   "source": [
    "\n",
    "#1. Blackbody mit T und a \n",
    "#2. Convolve with muscat filters to yield flare values\n",
    "\n",
    "#dafür von Temperature und area zu brightness sonst macht es keinen Sinn"
   ]
  },
  {
   "cell_type": "code",
   "execution_count": 2,
   "id": "e3e40b92",
   "metadata": {},
   "outputs": [],
   "source": [
    "import pandas as pd\n",
    "#import data frames with the flare parameters of davenport model (ampl, fwhm, tpeak)\n",
    "#fitted by emcee approach McKey 2013 \n",
    "\n"
   ]
  },
  {
   "cell_type": "code",
   "execution_count": 15,
   "id": "b563bad6",
   "metadata": {},
   "outputs": [
    {
     "data": {
      "text/plain": [
       "<ErrorbarContainer object of 3 artists>"
      ]
     },
     "execution_count": 15,
     "metadata": {},
     "output_type": "execute_result"
    },
    {
     "data": {
      "image/png": "[encoded data removed]",
      "text/plain": [
       "<Figure size 432x288 with 1 Axes>"
      ]
     },
     "metadata": {
      "needs_background": "light"
     },
     "output_type": "display_data"
    }
   ],
   "source": [
    "import matplotlib.pyplot as plt \n",
    "\n",
    "plt.errorbar(wavelength_M2,flare_SED, yerr = flare_SED_error)"
   ]
  },
  {
   "cell_type": "code",
   "execution_count": 16,
   "id": "8f9540a2",
   "metadata": {},
   "outputs": [],
   "source": [
    "with open(\"Test/results/values/brightness_flare_Test.txt\", \"w+\") as f:\n",
    "    f.write(\"g , r , i, z, unit: [None] \\n\")\n",
    "    f.write(str(flare_SED[0])+ ',' +  str(flare_SED[1])+ ',' + \\\n",
    "            str(flare_SED[2])+ ',' + str(flare_SED[3]) + '\\n' )\n",
    "\n",
    "    \n"
   ]
  },
  {
   "cell_type": "code",
   "execution_count": null,
   "id": "4da578bc",
   "metadata": {},
   "outputs": [],
   "source": []
  }
 ],
 "metadata": {
  "kernelspec": {
   "display_name": "Python 3",
   "language": "python",
   "name": "python3"
  },
  "language_info": {
   "codemirror_mode": {
    "name": "ipython",
    "version": 3
   },
   "file_extension": ".py",
   "mimetype": "text/x-python",
   "name": "python",
   "nbconvert_exporter": "python",
   "pygments_lexer": "ipython3",
   "version": "3.8.8"
  }
 },
 "nbformat": 4,
 "nbformat_minor": 5
}
