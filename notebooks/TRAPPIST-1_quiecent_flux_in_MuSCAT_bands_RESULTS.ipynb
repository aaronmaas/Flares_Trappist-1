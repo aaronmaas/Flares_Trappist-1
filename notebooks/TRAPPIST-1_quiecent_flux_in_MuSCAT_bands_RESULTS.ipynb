{
 "cells": [
  {
   "cell_type": "code",
   "execution_count": 4,
   "id": "8fc2deb9",
   "metadata": {},
   "outputs": [],
   "source": [
    "import numpy as np \n",
    "import matplotlib.pyplot as plt \n",
    "import astropy.units as au\n",
    "import astropy.constants as ca\n",
    " \n",
    "import pandas as pd"
   ]
  },
  {
   "cell_type": "code",
   "execution_count": 2,
   "id": "8a488294",
   "metadata": {},
   "outputs": [],
   "source": [
    "#Semi empirical model + error for spectrum TRAPPIST-1 from Wilson et al 2021\n",
    "trappist_SED = np.genfromtxt(\"../data/TRAPPIST1_Semimodel_Wilson/TRAPPIST-1_model_const_res_v07.ecsv\", delimiter = \"\")\n",
    "#unit erg A^-1 t^-1 cm^-2 "
   ]
  },
  {
   "cell_type": "code",
   "execution_count": 3,
   "id": "a893be38",
   "metadata": {},
   "outputs": [],
   "source": [
    "flux_TRAP = trappist_SED[:,1]  * au.erg * au.cm**(-2) * au.s**(-1) * au.Angstrom**(-1)\n",
    "#error of semiemprical model is 50% Wilson et al 2021\n",
    "fluxerror_TRAP = (0.5*trappist_SED[:,1])  * au.erg * au.cm**(-2) * au.s**(-1) * au.Angstrom**(-1)\n"
   ]
  },
  {
   "cell_type": "code",
   "execution_count": 12,
   "id": "bfa96e28",
   "metadata": {},
   "outputs": [],
   "source": [
    "muscat = pd.read_csv(\"../data/MuSCAT2_response/MuSCAT2_response.csv\")\n",
    "\n",
    "muscat = muscat.fillna(0) \n",
    "muscat[\"lamb\"] = muscat.wavelength * 10 #Angstrom"
   ]
  },
  {
   "cell_type": "code",
   "execution_count": 13,
   "id": "2168e6be",
   "metadata": {},
   "outputs": [],
   "source": [
    "rres = np.interp(muscat.lamb, trappist_SED[:,0], trappist_SED[:,1])"
   ]
  },
  {
   "cell_type": "code",
   "execution_count": 60,
   "id": "a854b6b2",
   "metadata": {},
   "outputs": [],
   "source": [
    "muscatflux  = np.asarray([np.trapz(muscat.Total_g*rres, x=muscat.lamb), \\\n",
    "                                np.trapz(muscat.Total_r*rres, x=muscat.lamb), \\\n",
    "                                np.trapz(muscat.Total_i*rres, x=muscat.lamb), \\\n",
    "                                np.trapz(muscat.Total_z*rres, x=muscat.lamb)])"
   ]
  },
  {
   "cell_type": "code",
   "execution_count": 61,
   "id": "0d8ae108",
   "metadata": {},
   "outputs": [],
   "source": [
    "muscatfluxerror  = np.asarray([np.trapz(muscat.Total_g*0.5*rres, x=muscat.lamb), \\\n",
    "                   np.trapz(muscat.Total_r*0.5*rres, x=muscat.lamb), \\\n",
    "                   np.trapz(muscat.Total_i*0.5*rres, x=muscat.lamb), \\\n",
    "                   np.trapz(muscat.Total_z*0.5*rres, x=muscat.lamb) ])"
   ]
  },
  {
   "cell_type": "code",
   "execution_count": 67,
   "id": "9312ccd3",
   "metadata": {},
   "outputs": [
    {
     "data": {
      "text/latex": [
       "$[2.3465866 \\times 10^{20},~5.1702752 \\times 10^{20},~3.9415777 \\times 10^{21},~5.6786382 \\times 10^{21}] \\; \\mathrm{W}$"
      ],
      "text/plain": [
       "<Quantity [2.34658656e+20, 5.17027523e+20, 3.94157772e+21, 5.67863824e+21] W>"
      ]
     },
     "execution_count": 67,
     "metadata": {},
     "output_type": "execute_result"
    }
   ],
   "source": [
    "#Lienhardt et al 2020\n",
    "dist_TRAP = 3.835084e+19 *au.cm \n",
    "#dist_TRAP_error = 0.02 * 3.086e+18 *au.cm\n",
    "\n",
    "lumi_TRAP = muscatflux*au.erg*au.cm**(-2)*au.s**(-1)*(4*np.pi*(dist_TRAP)**2)\n",
    "#lumierror_TRAP = np.sqrt(4*np.pi*(dist_TRAP.value)**2 * brightnesserror_TRAP.value**2 + 8*np.pi*brightness_TRAP.value*dist_TRAP.value*dist_TRAP_error.value**2 ) *au.erg * au.s**(-1)\n",
    "lumi_TRAP.to(\"W\")\n"
   ]
  },
  {
   "cell_type": "code",
   "execution_count": 59,
   "id": "193d4e42",
   "metadata": {},
   "outputs": [],
   "source": [
    "with open(\"../results/values/brightness_TRAPPIST-1_withCCDeffeciency.txt\", \"w+\") as f:\n",
    "    f.write(\"g , r , i, z \\n\")\n",
    "    f.write(str(muscatflux_g)+ ',' +  str(muscatflux_r)+ ',' + \\\n",
    "            str(muscatflux_i)+ ',' + str(muscatflux_z) + '\\n' )\n",
    "    f.write(str(muscatfluxerror_g)+ ',' +  str(muscatfluxerror_r)+ ',' + \\\n",
    "            str(muscatfluxerror_i)+ ',' + str(muscatfluxerror_z) + '\\n' )"
   ]
  },
  {
   "cell_type": "code",
   "execution_count": 68,
   "id": "e1708b75",
   "metadata": {},
   "outputs": [],
   "source": [
    "with open(\"../results/values/lumi_TRAPPIST-1_withCCDeffeciency.txt\", \"w+\") as f:\n",
    "    f.write(\"g , r , i, z \\n\")\n",
    "    f.write(str(lumi_TRAP[0].value)+ ',' +  str(lumi_TRAP[1].value)+ ',' + \\\n",
    "            str(lumi_TRAP[2].value)+ ',' + str(lumi_TRAP[3].value) )"
   ]
  },
  {
   "cell_type": "code",
   "execution_count": null,
   "id": "ea6a3028",
   "metadata": {},
   "outputs": [],
   "source": [
    "### Notes: \n",
    "\n",
    "'''\n",
    "\n",
    "Calculation correction: At the moment I am using only the passbands but not the M2 effeciency of CCDs.\n",
    "\n",
    "Possible correction: Concolution of flux_TRAP * filtertransmission_total \n",
    "--> Ekaterina did this in here study, so there you can learn how it should work. \n",
    "\n",
    "\n",
    "# Interpolate response from rwav to w:\n",
    "rres = np.interp(tess.lambd, bt.lambd, bt.flux, left=0, right=0)\n",
    "\n",
    "# Integrating the flux of the thermal\n",
    "# spectrum times the response curve over wavelength:\n",
    "tessflux = np.trapz(tess.response * rres, x=tess.lambd)*u.erg * u.cm**(-2) * u.s**(-1)\n",
    "\n",
    "# literature values from White et al. 2015\n",
    "r, rerr = 0.75 * R_sun, 0.03 * R_sun \n",
    "\n",
    "# TESS projected surface luminosity\n",
    "tesslum = np.pi * r**2 * tessflux\n",
    "\n",
    "# convert to astro units\n",
    "tesslum = tesslum.to(\"erg /s\")\n",
    "tesslum\n",
    "\n",
    "'''"
   ]
  }
 ],
 "metadata": {
  "kernelspec": {
   "display_name": "Python 3",
   "language": "python",
   "name": "python3"
  },
  "language_info": {
   "codemirror_mode": {
    "name": "ipython",
    "version": 3
   },
   "file_extension": ".py",
   "mimetype": "text/x-python",
   "name": "python",
   "nbconvert_exporter": "python",
   "pygments_lexer": "ipython3",
   "version": "3.8.8"
  }
 },
 "nbformat": 4,
 "nbformat_minor": 5
}
