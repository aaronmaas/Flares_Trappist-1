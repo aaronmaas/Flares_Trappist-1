{
 "cells": [
  {
   "cell_type": "code",
   "execution_count": 1,
   "id": "8fc2deb9",
   "metadata": {},
   "outputs": [],
   "source": [
    "import numpy as np \n",
    "import pandas as pd\n",
    "import matplotlib.pyplot as plt \n",
    "import astropy.units as au\n",
    "import astropy.constants as ca"
   ]
  },
  {
   "cell_type": "code",
   "execution_count": 2,
   "id": "8a488294",
   "metadata": {},
   "outputs": [],
   "source": [
    "#Semi empirical model + error for spectrum TRAPPIST-1 from Wilson et al 2021\n",
    "trappist_SED = np.genfromtxt(\"../data/TRAPPIST1_Semimodel_Wilson/TRAPPIST-1_model_const_res_v07.ecsv\", \\\n",
    "                              delimiter = \"\")\n",
    "#unit erg A^-1 s^-1 cm^-2 "
   ]
  },
  {
   "cell_type": "code",
   "execution_count": 3,
   "id": "a893be38",
   "metadata": {},
   "outputs": [],
   "source": [
    "flux_TRAP = trappist_SED[:,1]  * au.erg * au.cm**(-2) * au.s**(-1) * au.Angstrom**(-1)\n",
    "wavelength_TRAP = trappist_SED[:,0]  * au.Angstrom\n",
    "#error of semiemprical model is 50% Wilson et al 2021\n",
    "fluxerror_TRAP = (0.05*trappist_SED[:,1])  * au.erg * au.cm**(-2) * au.s**(-1) * au.Angstrom**(-1)\n"
   ]
  },
  {
   "cell_type": "code",
   "execution_count": 4,
   "id": "bfa96e28",
   "metadata": {},
   "outputs": [],
   "source": [
    "#Muscat Reaponse\n",
    "muscat = pd.read_csv(\"../data/MuSCAT2_response/MuSCAT2_response.csv\")\n",
    "\n",
    "muscat = muscat.fillna(0) \n",
    "muscat[\"lamb\"] = muscat.wavelength*1e1   #Angstrom"
   ]
  },
  {
   "cell_type": "code",
   "execution_count": 5,
   "id": "2168e6be",
   "metadata": {},
   "outputs": [],
   "source": [
    "#Interplotation to TRAPPIST-1 \n",
    "rres = np.interp(muscat.lamb, wavelength_TRAP.value, flux_TRAP.value) "
   ]
  },
  {
   "cell_type": "code",
   "execution_count": 6,
   "id": "a854b6b2",
   "metadata": {},
   "outputs": [],
   "source": [
    "#total flux in muscat passbands\n",
    "muscatflux  = np.asarray([np.trapz(muscat.Total_g*rres, x=muscat.lamb), \\\n",
    "                                np.trapz(muscat.Total_r*rres, x=muscat.lamb), \\\n",
    "                                np.trapz(muscat.Total_i*rres, x=muscat.lamb), \\\n",
    "                                np.trapz(muscat.Total_z*rres, x=muscat.lamb)])"
   ]
  },
  {
   "cell_type": "code",
   "execution_count": 7,
   "id": "0d8ae108",
   "metadata": {},
   "outputs": [],
   "source": [
    "#Wilson et al 2021 take 50% of the flux values as error\n",
    "muscatfluxerror  = np.asarray([np.trapz(muscat.Total_g*0.05*rres, x=muscat.lamb), \\\n",
    "                   np.trapz(muscat.Total_r*0.05*rres, x=muscat.lamb), \\\n",
    "                   np.trapz(muscat.Total_i*0.05*rres, x=muscat.lamb), \\\n",
    "                   np.trapz(muscat.Total_z*0.05*rres, x=muscat.lamb) ])"
   ]
  },
  {
   "cell_type": "code",
   "execution_count": 8,
   "id": "9312ccd3",
   "metadata": {},
   "outputs": [
    {
     "data": {
      "text/latex": [
       "$[2.3465866 \\times 10^{20},~5.1702752 \\times 10^{20},~3.9415777 \\times 10^{21},~5.6786382 \\times 10^{21}] \\; \\mathrm{W}$"
      ],
      "text/plain": [
       "<Quantity [2.34658656e+20, 5.17027523e+20, 3.94157772e+21, 5.67863824e+21] W>"
      ]
     },
     "execution_count": 8,
     "metadata": {},
     "output_type": "execute_result"
    }
   ],
   "source": [
    "#Lienhardt et al 2020\n",
    "dist_TRAP = 3.835084e+19 *au.cm \n",
    "dist_TRAP_error = 0.02 * 3.086e+18 *au.cm\n",
    "\n",
    "lumi_TRAP = muscatflux*au.erg*au.cm**(-2)*au.s**(-1)*(4*np.pi*(dist_TRAP)**2)\n",
    "#lumierror_TRAP = np.sqrt(4*np.pi*(dist_TRAP.value)**2 * brightnesserror_TRAP.value**2 + 8*np.pi*brightness_TRAP.value*dist_TRAP.value*dist_TRAP_error.value**2 ) *au.erg * au.s**(-1)\n",
    "lumi_TRAP.to(\"W\")\n"
   ]
  },
  {
   "cell_type": "code",
   "execution_count": 9,
   "id": "193d4e42",
   "metadata": {},
   "outputs": [],
   "source": [
    "#safe passbandflux\n",
    "with open(\"../results/values/brightness_TRAPPIST-1_withCCDeffeciency.txt\", \"w+\") as f:\n",
    "    f.write(\"g , r , i, z, units: [erg cm-2 s-1]  \\n\")\n",
    "    f.write(str(muscatflux[0])+ ',' +  str(muscatflux[1])+ ',' + \\\n",
    "            str(muscatflux[2])+ ',' + str(muscatflux[3]) + '\\n' )\n",
    "    f.write(str(muscatfluxerror[0])+ ',' +  str(muscatfluxerror[1])+ ',' + \\\n",
    "            str(muscatfluxerror[2])+ ',' + str(muscatfluxerror[2]) + '\\n' )"
   ]
  },
  {
   "cell_type": "code",
   "execution_count": 10,
   "id": "e1708b75",
   "metadata": {},
   "outputs": [],
   "source": [
    "#safe lumi\n",
    "with open(\"../results/values/lumi_TRAPPIST-1_withCCDeffeciency.txt\", \"w+\") as f:\n",
    "    f.write(\"g , r , i, z, units: [erg s-1] \\n\")\n",
    "    f.write(str(lumi_TRAP[0].value)+ ',' +  str(lumi_TRAP[1].value)+ ',' + \\\n",
    "            str(lumi_TRAP[2].value)+ ',' + str(lumi_TRAP[3].value) )"
   ]
  },
  {
   "cell_type": "markdown",
   "id": "513e7ff8",
   "metadata": {},
   "source": [
    "# ------------------------------- Not needed at the moment ----------------------------"
   ]
  },
  {
   "cell_type": "code",
   "execution_count": 11,
   "id": "b7e07ed0",
   "metadata": {},
   "outputs": [],
   "source": [
    "#Mean flux in muscat passbands\n",
    "muscatflux_mean  = np.asarray([np.mean(muscat.Total_g*rres), \\\n",
    "                                np.mean(muscat.Total_r*rres), \\\n",
    "                                np.mean(muscat.Total_i*rres), \\\n",
    "                                np.mean(muscat.Total_z*rres)])\n",
    "\n",
    "muscatfluxerror_mean  = np.asarray([np.mean(muscat.Total_g*0.5*rres), \\\n",
    "                   np.mean(muscat.Total_r*0.5*rres), \\\n",
    "                   np.mean(muscat.Total_i*0.5*rres), \\\n",
    "                   np.mean(muscat.Total_z*0.5*rres) ])\n",
    "\n",
    "with open(\"../results/values/brightness_mean_TRAPPIST-1_withCCDeffeciency.txt\", \"w+\") as f:\n",
    "    f.write(\"g , r , i, z, units: [erg cm-2 s-1]  \\n\")\n",
    "    f.write(str(muscatflux_mean[0])+ ',' +  str(muscatflux_mean[1])+ ',' + \\\n",
    "            str(muscatflux_mean[2])+ ',' + str(muscatflux_mean[3]) + '\\n' )\n",
    "    f.write(str(muscatfluxerror_mean[0])+ ',' +  str(muscatfluxerror_mean[1])+ ',' + \\\n",
    "            str(muscatfluxerror_mean[2])+ ',' + str(muscatfluxerror_mean[2]) + '\\n' )"
   ]
  },
  {
   "cell_type": "code",
   "execution_count": null,
   "id": "ea6a3028",
   "metadata": {},
   "outputs": [],
   "source": [
    "### Notes: \n",
    "\n",
    "'''\n",
    "\n",
    "Review uncertainties \n",
    "\n",
    "Calculation correction: At the moment I am using only the passbands but not the M2 effeciency of CCDs.\n",
    "\n",
    "Possible correction: Concolution of flux_TRAP * filtertransmission_total \n",
    "--> Ekaterina did this in here study, so there you can learn how it should work. \n",
    "\n",
    "\n",
    "# Interpolate response from rwav to w:\n",
    "rres = np.interp(tess.lambd, bt.lambd, bt.flux, left=0, right=0)\n",
    "\n",
    "# Integrating the flux of the thermal\n",
    "# spectrum times the response curve over wavelength:\n",
    "tessflux = np.trapz(tess.response * rres, x=tess.lambd)*u.erg * u.cm**(-2) * u.s**(-1)\n",
    "\n",
    "# literature values from White et al. 2015\n",
    "r, rerr = 0.75 * R_sun, 0.03 * R_sun \n",
    "\n",
    "# TESS projected surface luminosity\n",
    "tesslum = np.pi * r**2 * tessflux\n",
    "\n",
    "# convert to astro units\n",
    "tesslum = tesslum.to(\"erg /s\")\n",
    "tesslum\n",
    "\n",
    "'''"
   ]
  }
 ],
 "metadata": {
  "kernelspec": {
   "display_name": "Python 3",
   "language": "python",
   "name": "python3"
  },
  "language_info": {
   "codemirror_mode": {
    "name": "ipython",
    "version": 3
   },
   "file_extension": ".py",
   "mimetype": "text/x-python",
   "name": "python",
   "nbconvert_exporter": "python",
   "pygments_lexer": "ipython3",
   "version": "3.8.8"
  }
 },
 "nbformat": 4,
 "nbformat_minor": 5
}
