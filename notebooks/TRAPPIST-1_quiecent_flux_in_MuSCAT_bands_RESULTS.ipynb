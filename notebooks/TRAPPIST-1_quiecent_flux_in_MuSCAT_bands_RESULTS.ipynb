{
 "cells": [
  {
   "cell_type": "code",
   "execution_count": 201,
   "id": "74e0db16",
   "metadata": {},
   "outputs": [],
   "source": [
    "import numpy as np \n",
    "import matplotlib.pyplot as plt \n",
    "import astropy.units as au\n",
    "import astropy.constants as ca\n"
   ]
  },
  {
   "cell_type": "code",
   "execution_count": 202,
   "id": "b5305e27",
   "metadata": {},
   "outputs": [],
   "source": [
    "#Semi empirical model + error for spectrum TRAPPIST-1 from Wilson et al 2021\n",
    "trappist_SED = np.genfromtxt(\"../data/TRAPPIST1_Semimodel_Wilson/TRAPPIST-1_model_const_res_v07.ecsv\", delimiter = \"\")\n",
    "#unit erg A^-1 t^-1 cm^-2 "
   ]
  },
  {
   "cell_type": "code",
   "execution_count": 203,
   "id": "15823d3c",
   "metadata": {},
   "outputs": [],
   "source": [
    "flux_TRAP = trappist_SED[:,1]  * au.erg * au.cm**(-2) * au.s**(-1) * au.Angstrom**(-1)\n",
    "flux_TRAP = flux_TRAP.to(\"J/(m^3 * s^1)\")"
   ]
  },
  {
   "cell_type": "code",
   "execution_count": 204,
   "id": "87f985b7",
   "metadata": {
    "scrolled": false
   },
   "outputs": [],
   "source": [
    "#Import Muscat response function (bandpass only \n",
    "#no detector efficency)\n",
    "import numpy as np\n",
    "iters = [\"g\", \"r\", \"i\", \"z\"]\n",
    "limit = []\n",
    "\n",
    "for i in iters: \n",
    "    #limit are the limits of the passband in wavelength \n",
    "    limit.append(np.load(\"../data/MuSCAT2_response/MuSCAT2_limit_{}.npy\".format(str(i))))\n"
   ]
  },
  {
   "cell_type": "code",
   "execution_count": 205,
   "id": "a6082b1e",
   "metadata": {},
   "outputs": [
    {
     "data": {
      "text/latex": [
       "$[1.5065431 \\times 10^{-6},~4.0466897 \\times 10^{-6},~3.2712824 \\times 10^{-5},~6.7873797 \\times 10^{-5}] \\; \\mathrm{\\frac{J}{s\\,m^{2}}}$"
      ],
      "text/plain": [
       "<Quantity [1.50654308e-06, 4.04668968e-06, 3.27128241e-05, 6.78737967e-05] J / (m2 s)>"
      ]
     },
     "execution_count": 205,
     "metadata": {},
     "output_type": "execute_result"
    }
   ],
   "source": [
    "#apparent brightness of TRAPPIST-1 in each bandpass at Earth\n",
    "brightness_TRAP = np.asarray([np.trapz(flux_TRAP[limit[i][0]:limit[i][1]].value) for i in range(len(iters)) ] ) * au.J * au.m**(-2) * au.s**(-1)  \n",
    "brightness_TRAP"
   ]
  },
  {
   "cell_type": "code",
   "execution_count": 206,
   "id": "8b9e5d95",
   "metadata": {},
   "outputs": [
    {
     "data": {
      "text/latex": [
       "$[2.7844613 \\times 10^{30},~7.4792754 \\times 10^{30},~6.0461326 \\times 10^{31},~1.2544743 \\times 10^{32}] \\; \\mathrm{W}$"
      ],
      "text/plain": [
       "<Quantity [2.78446126e+30, 7.47927544e+30, 6.04613256e+31, 1.25447430e+32] W>"
      ]
     },
     "execution_count": 206,
     "metadata": {},
     "output_type": "execute_result"
    }
   ],
   "source": [
    "lumi_TRAP = brightness_TRAP.to(\"W/m^2\")*(4*np.pi*(dist_TRAP*au.m )**2)\n",
    "lumi_TRAP"
   ]
  },
  {
   "cell_type": "code",
   "execution_count": 213,
   "id": "f6022651",
   "metadata": {},
   "outputs": [],
   "source": [
    "with open(\"../results/values/brightness.txt\", \"w+\") as f:\n",
    "    f.write(str(brightness_TRAP.value))\n",
    "    "
   ]
  },
  {
   "cell_type": "code",
   "execution_count": 214,
   "id": "2e7c17f4",
   "metadata": {},
   "outputs": [],
   "source": [
    "with open(\"../results/values/lumi.txt\", \"w+\") as f:\n",
    "    f.write(str(lumi_TRAP.value))\n",
    "    "
   ]
  }
 ],
 "metadata": {
  "kernelspec": {
   "display_name": "Python 3",
   "language": "python",
   "name": "python3"
  },
  "language_info": {
   "codemirror_mode": {
    "name": "ipython",
    "version": 3
   },
   "file_extension": ".py",
   "mimetype": "text/x-python",
   "name": "python",
   "nbconvert_exporter": "python",
   "pygments_lexer": "ipython3",
   "version": "3.8.8"
  }
 },
 "nbformat": 4,
 "nbformat_minor": 5
}
