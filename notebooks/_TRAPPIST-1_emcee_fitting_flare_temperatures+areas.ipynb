{
 "cells": [
  {
   "cell_type": "code",
   "execution_count": null,
   "id": "26f0a6e0",
   "metadata": {},
   "outputs": [],
   "source": [
    "def brightness_mod(wavelength_tot, limit, T_flare, a, fluxdensity_tot, T_star, R_star, dist_star, model = \"thick\"):\n",
    "    \n",
    "    '''\n",
    "    Modified brightness calculator for every passband. It summs the brightness in the given limits. \n",
    "    So for Muscat we get four summed points. The model uses an optical thick approach. \n",
    "\n",
    "    Parameters\n",
    "    -------------\n",
    "    wavelength_tot : 1-d array\n",
    "        total wavelength array to be sliced into passband contributions by limit\n",
    "    limit: mx2-array\n",
    "        m is the number of passbands, 2 because two boarders \n",
    "    T_flare: float\n",
    "        Flare temperature [K]\n",
    "    a: float\n",
    "        Fraction of Radius of the star asociate with flaring area. \n",
    "    fluxdensity_tot: 1-d array\n",
    "        total fluxdensity of the star given [W/m^3] \n",
    "    Stellar Paramer \n",
    "    --------------\n",
    "    T_star: float \n",
    "        Temperature of star [K]\n",
    "    R_star: float\n",
    "        Radius of star [m]\n",
    "    dist_star\n",
    "        distance of star [m]\n",
    "        \n",
    "    Return \n",
    "    ----------\n",
    "    mx1 array\n",
    "        brightness of flare in the passbands\n",
    "    \n",
    "    '''\n",
    "    \n",
    "    \n",
    "    brightness = []\n",
    "    for i in range(len(limit)):\n",
    "        wavelength = wavelength_tot[limit[i][0]:limit[i][1]]\n",
    "        pre_factor = 1/(dist_star**2) * 2*c.h*c.c**2 /(wavelength**5) * np.pi\n",
    "        flare_contribution = (a*R_star)**2/(np.exp((c.h * c.c)/(T_flare*c.k*wavelength)) -1)\n",
    "        if model == \"thick\":\n",
    "            #total star in given passband #das ist super klein, deswegen hat es kaum einen Einfluss\n",
    "            star_contribution = -(a*R_star/dist_star)**2 * np.nansum(fluxdensity_tot[limit[i][0]:limit[i][0]]) * 1e7\n",
    "        else:\n",
    "            #thin case, a sign\n",
    "            star_contribution = (a*R_star)**2 * np.nansum(fluxdensity_tot[limit[i][0]:limit[i][0]]) * 1e7\n",
    "        brightness.append(np.nansum(pre_factor * (flare_contribution))  + star_contribution) \n",
    "        \n",
    "    return np.asarray(brightness)"
   ]
  }
 ],
 "metadata": {
  "kernelspec": {
   "display_name": "Python 3",
   "language": "python",
   "name": "python3"
  },
  "language_info": {
   "codemirror_mode": {
    "name": "ipython",
    "version": 3
   },
   "file_extension": ".py",
   "mimetype": "text/x-python",
   "name": "python",
   "nbconvert_exporter": "python",
   "pygments_lexer": "ipython3",
   "version": "3.8.8"
  }
 },
 "nbformat": 4,
 "nbformat_minor": 5
}
