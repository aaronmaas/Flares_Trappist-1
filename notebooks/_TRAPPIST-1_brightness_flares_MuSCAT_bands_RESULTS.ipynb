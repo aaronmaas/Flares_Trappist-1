{
 "cells": [
  {
   "cell_type": "code",
   "execution_count": 12,
   "id": "a2de3223",
   "metadata": {},
   "outputs": [],
   "source": [
    "import numpy as np \n",
    "from scipy.integrate import trapz as tp \n",
    "from funcs.aflare1_Davenport import aflare1"
   ]
  },
  {
   "cell_type": "code",
   "execution_count": 13,
   "id": "e3e40b92",
   "metadata": {},
   "outputs": [],
   "source": [
    "import pandas as pd\n",
    "#import data frames with the flare parameters of davenport model (ampl, fwhm, tpeak)\n",
    "#fitted by emcee approach McKey 2013 \n",
    "df_g = pd.read_pickle(\"/home/aaronmaas/Flare_Notebooks/flare_tables/trappist_1/g_filter/flareprofiles_g.pkl\")\n",
    "df_r = pd.read_pickle(\"/home/aaronmaas/Flare_Notebooks/flare_tables/trappist_1/r_filter/flareprofiles_r.pkl\")\n",
    "df_i = pd.read_pickle(\"/home/aaronmaas/Flare_Notebooks/flare_tables/trappist_1/i_filter/flareprofiles_i.pkl\")\n",
    "df_z = pd.read_pickle(\"/home/aaronmaas/Flare_Notebooks/flare_tables/trappist_1/z_filter/flareprofiles_z.pkl\")\n",
    "\n",
    "\n",
    "#data frame of dataframes\n",
    "dfs = [df_g,df_r,df_i,df_z]\n",
    "timeobs = [np.linspace(4254.5,4254.7,1000),np.linspace(4306.,4307,1000)]"
   ]
  },
  {
   "cell_type": "code",
   "execution_count": 24,
   "id": "872f2fb5",
   "metadata": {},
   "outputs": [],
   "source": [
    "brightness, brightnesserror = [],[]\n",
    "\n",
    "#calculation of brightness for all flare events in the dataframe\n",
    "#above shown calculation implemented\n",
    "i = 0\n",
    "for df in dfs:\n",
    "    for flare in range(len(timeobs)):\n",
    "        #time where observation is different then zero\n",
    "        timetime = timeobs[flare][aflare1(timeobs[flare], df.Tpeak[flare], df.Fwhm[flare], df.Ampl[flare]) > 0]\n",
    "        T = timetime[-1] - timetime[0] \n",
    "        #brightness of flare in bandpass devided by total flare time\n",
    "        brightnessflare_norm = tp(aflare1(timeobs[flare], df.Tpeak[flare], df.Fwhm[flare], df.Ampl[flare]))  * 1/T  \n",
    "        brightnessflare_normerror = tp(aflare1(timeobs[flare], df.Tpeak[flare], np.max([df.sFwhm[flare],df.sfwhm[flare]]), np.max([df.sAmpl[flare],df.sampl[flare]]))) * 1/T\n",
    "        brightness.append(brightnessflare_norm)\n",
    "        brightnesserror.append(brightnessflare_normerror) \n",
    "    i = i + 1 \n",
    "\n",
    "brightness = np.asarray(brightness)\n",
    "brightnesserror = np.asarray(brightnesserror)"
   ]
  },
  {
   "cell_type": "code",
   "execution_count": 25,
   "id": "4467fd93",
   "metadata": {},
   "outputs": [
    {
     "data": {
      "text/plain": [
       "array([4.52506984e+02, 1.42712541e+01, 1.51050116e+02, 6.05080978e+00,\n",
       "       1.01800624e+01, 4.24348275e-01, 2.82384713e+00, 5.77041610e-02])"
      ]
     },
     "execution_count": 25,
     "metadata": {},
     "output_type": "execute_result"
    }
   ],
   "source": [
    "brightness"
   ]
  },
  {
   "cell_type": "code",
   "execution_count": 30,
   "id": "8f9540a2",
   "metadata": {},
   "outputs": [],
   "source": [
    "with open(\"../results/values/brightness_flare1.txt\", \"w+\") as f:\n",
    "    f.write(str(brightness[0::2]))\n",
    "    f.write(str(brightnesserror[0::2]))"
   ]
  },
  {
   "cell_type": "code",
   "execution_count": 31,
   "id": "60a51b70",
   "metadata": {},
   "outputs": [],
   "source": [
    "with open(\"../results/values/brightness_flare2.txt\", \"w+\") as f:\n",
    "    f.write(str(brightness[1::2]))\n",
    "    f.write(str(brightnesserror[1::2]))"
   ]
  },
  {
   "cell_type": "code",
   "execution_count": null,
   "id": "176d1169",
   "metadata": {},
   "outputs": [],
   "source": []
  }
 ],
 "metadata": {
  "kernelspec": {
   "display_name": "Python 3",
   "language": "python",
   "name": "python3"
  },
  "language_info": {
   "codemirror_mode": {
    "name": "ipython",
    "version": 3
   },
   "file_extension": ".py",
   "mimetype": "text/x-python",
   "name": "python",
   "nbconvert_exporter": "python",
   "pygments_lexer": "ipython3",
   "version": "3.8.8"
  }
 },
 "nbformat": 4,
 "nbformat_minor": 5
}
