{
 "cells": [
  {
   "cell_type": "code",
   "execution_count": 1,
   "id": "a2de3223",
   "metadata": {},
   "outputs": [],
   "source": [
    "import numpy as np \n",
    "from scipy.integrate import trapz as tp \n",
    "from funcs.aflare1_Davenport import aflare1"
   ]
  },
  {
   "cell_type": "code",
   "execution_count": 2,
   "id": "e3e40b92",
   "metadata": {},
   "outputs": [],
   "source": [
    "import pandas as pd\n",
    "#import data frames with the flare parameters of davenport model (ampl, fwhm, tpeak)\n",
    "#fitted by emcee approach McKey 2013 \n",
    "df_g = pd.read_pickle(\"/home/aaronmaas/Flare_Notebooks/flare_tables/trappist_1/g_filter/flareprofiles_g.pkl\")\n",
    "df_r = pd.read_pickle(\"/home/aaronmaas/Flare_Notebooks/flare_tables/trappist_1/r_filter/flareprofiles_r.pkl\")\n",
    "df_i = pd.read_pickle(\"/home/aaronmaas/Flare_Notebooks/flare_tables/trappist_1/i_filter/flareprofiles_i.pkl\")\n",
    "df_z = pd.read_pickle(\"/home/aaronmaas/Flare_Notebooks/flare_tables/trappist_1/z_filter/flareprofiles_z.pkl\")\n",
    "\n",
    "\n",
    "#dataframe for the different flares and observation time\n",
    "dfs = [df_g,df_r,df_i,df_z]\n",
    "timeobs = [np.linspace(df_g[\"timestart\"][0],df_g[\"timestop\"][0],1000),np.linspace(df_g[\"timestart\"][1],df_g[\"timestop\"][1],1000)]"
   ]
  },
  {
   "cell_type": "code",
   "execution_count": 3,
   "id": "8f2e08ff",
   "metadata": {},
   "outputs": [
    {
     "ename": "ModuleNotFoundError",
     "evalue": "No module named 'aflare1_Davenport'",
     "output_type": "error",
     "traceback": [
      "\u001b[0;31m---------------------------------------------------------------------------\u001b[0m",
      "\u001b[0;31mModuleNotFoundError\u001b[0m                       Traceback (most recent call last)",
      "\u001b[0;32m<ipython-input-3-07305b8f655e>\u001b[0m in \u001b[0;36m<module>\u001b[0;34m\u001b[0m\n\u001b[0;32m----> 1\u001b[0;31m \u001b[0;32mfrom\u001b[0m \u001b[0mfuncs\u001b[0m\u001b[0;34m.\u001b[0m\u001b[0m_brightness_luminosity\u001b[0m \u001b[0;32mimport\u001b[0m \u001b[0mbrightnessnorm_flare\u001b[0m\u001b[0;34m\u001b[0m\u001b[0;34m\u001b[0m\u001b[0m\n\u001b[0m",
      "\u001b[0;32m~/Desktop/Flares_Trappist/notebooks/funcs/_brightness_luminosity.py\u001b[0m in \u001b[0;36m<module>\u001b[0;34m\u001b[0m\n\u001b[1;32m      1\u001b[0m \u001b[0;32mimport\u001b[0m \u001b[0mnumpy\u001b[0m \u001b[0;32mas\u001b[0m \u001b[0mnp\u001b[0m\u001b[0;34m\u001b[0m\u001b[0;34m\u001b[0m\u001b[0m\n\u001b[0;32m----> 2\u001b[0;31m \u001b[0;32mfrom\u001b[0m \u001b[0maflare1_Davenport\u001b[0m \u001b[0;32mimport\u001b[0m \u001b[0maflare1\u001b[0m\u001b[0;34m\u001b[0m\u001b[0;34m\u001b[0m\u001b[0m\n\u001b[0m\u001b[1;32m      3\u001b[0m \u001b[0;32mfrom\u001b[0m \u001b[0mscipy\u001b[0m\u001b[0;34m.\u001b[0m\u001b[0mintegrate\u001b[0m \u001b[0;32mimport\u001b[0m \u001b[0mtrapz\u001b[0m \u001b[0;32mas\u001b[0m \u001b[0mtp\u001b[0m\u001b[0;34m\u001b[0m\u001b[0;34m\u001b[0m\u001b[0m\n\u001b[1;32m      4\u001b[0m \u001b[0;34m\u001b[0m\u001b[0m\n\u001b[1;32m      5\u001b[0m \u001b[0;34m\u001b[0m\u001b[0m\n",
      "\u001b[0;31mModuleNotFoundError\u001b[0m: No module named 'aflare1_Davenport'"
     ]
    }
   ],
   "source": [
    "from funcs._brightness_luminosity import brightnessnorm_flare"
   ]
  },
  {
   "cell_type": "code",
   "execution_count": 21,
   "id": "e83735c9",
   "metadata": {},
   "outputs": [
    {
     "ename": "NameError",
     "evalue": "name 'aflare1' is not defined",
     "output_type": "error",
     "traceback": [
      "\u001b[0;31m---------------------------------------------------------------------------\u001b[0m",
      "\u001b[0;31mNameError\u001b[0m                                 Traceback (most recent call last)",
      "\u001b[0;32m<ipython-input-21-0081e4ad458e>\u001b[0m in \u001b[0;36m<module>\u001b[0;34m\u001b[0m\n\u001b[0;32m----> 1\u001b[0;31m \u001b[0mbrightnessnorm_flare\u001b[0m\u001b[0;34m(\u001b[0m\u001b[0mtimeobs\u001b[0m\u001b[0;34m,\u001b[0m\u001b[0mdfs\u001b[0m\u001b[0;34m)\u001b[0m\u001b[0;34m\u001b[0m\u001b[0;34m\u001b[0m\u001b[0m\n\u001b[0m",
      "\u001b[0;32m~/Desktop/Flares_Trappist/notebooks/funcs/_brightness_luminosity.py\u001b[0m in \u001b[0;36mbrightnessnorm_flare\u001b[0;34m(timeobs, dfs)\u001b[0m\n\u001b[1;32m     71\u001b[0m     \u001b[0mbrightness_flare\u001b[0m\u001b[0;34m,\u001b[0m\u001b[0mbrightnesserror_flare\u001b[0m \u001b[0;34m=\u001b[0m \u001b[0;34m[\u001b[0m\u001b[0;34m]\u001b[0m\u001b[0;34m,\u001b[0m\u001b[0;34m[\u001b[0m\u001b[0;34m]\u001b[0m\u001b[0;34m\u001b[0m\u001b[0;34m\u001b[0m\u001b[0m\n\u001b[1;32m     72\u001b[0m     \u001b[0mi\u001b[0m \u001b[0;34m=\u001b[0m \u001b[0;36m0\u001b[0m\u001b[0;34m\u001b[0m\u001b[0;34m\u001b[0m\u001b[0m\n\u001b[0;32m---> 73\u001b[0;31m     \u001b[0;32mfor\u001b[0m \u001b[0mdf\u001b[0m \u001b[0;32min\u001b[0m \u001b[0mdfs\u001b[0m\u001b[0;34m:\u001b[0m\u001b[0;34m\u001b[0m\u001b[0;34m\u001b[0m\u001b[0m\n\u001b[0m\u001b[1;32m     74\u001b[0m         \u001b[0;32mfor\u001b[0m \u001b[0mflare\u001b[0m \u001b[0;32min\u001b[0m \u001b[0mrange\u001b[0m\u001b[0;34m(\u001b[0m\u001b[0mlen\u001b[0m\u001b[0;34m(\u001b[0m\u001b[0mtimeobs\u001b[0m\u001b[0;34m)\u001b[0m\u001b[0;34m)\u001b[0m\u001b[0;34m:\u001b[0m\u001b[0;34m\u001b[0m\u001b[0;34m\u001b[0m\u001b[0m\n\u001b[1;32m     75\u001b[0m             \u001b[0mtimetime\u001b[0m \u001b[0;34m=\u001b[0m \u001b[0mtimeobs\u001b[0m\u001b[0;34m[\u001b[0m\u001b[0mflare\u001b[0m\u001b[0;34m]\u001b[0m\u001b[0;34m[\u001b[0m\u001b[0maflare1\u001b[0m\u001b[0;34m(\u001b[0m\u001b[0mtimeobs\u001b[0m\u001b[0;34m[\u001b[0m\u001b[0mflare\u001b[0m\u001b[0;34m]\u001b[0m\u001b[0;34m,\u001b[0m \u001b[0mdf\u001b[0m\u001b[0;34m.\u001b[0m\u001b[0mTpeak\u001b[0m\u001b[0;34m[\u001b[0m\u001b[0mflare\u001b[0m\u001b[0;34m]\u001b[0m\u001b[0;34m,\u001b[0m \u001b[0mdf\u001b[0m\u001b[0;34m.\u001b[0m\u001b[0mFwhm\u001b[0m\u001b[0;34m[\u001b[0m\u001b[0mflare\u001b[0m\u001b[0;34m]\u001b[0m\u001b[0;34m,\u001b[0m \u001b[0mdf\u001b[0m\u001b[0;34m.\u001b[0m\u001b[0mAmpl\u001b[0m\u001b[0;34m[\u001b[0m\u001b[0mflare\u001b[0m\u001b[0;34m]\u001b[0m\u001b[0;34m)\u001b[0m \u001b[0;34m>\u001b[0m \u001b[0;36m0\u001b[0m\u001b[0;34m]\u001b[0m\u001b[0;34m\u001b[0m\u001b[0;34m\u001b[0m\u001b[0m\n",
      "\u001b[0;31mNameError\u001b[0m: name 'aflare1' is not defined"
     ]
    }
   ],
   "source": [
    "brightnessnorm_flare(timeobs,dfs)"
   ]
  },
  {
   "cell_type": "code",
   "execution_count": 8,
   "id": "872f2fb5",
   "metadata": {},
   "outputs": [],
   "source": [
    "brightness, brightnesserror = [],[]\n",
    "\n",
    "#calculation of brightness for all flare events in the dataframe\n",
    "#above shown calculation implemented\n",
    "i = 0\n",
    "for df in dfs:\n",
    "    for flare in range(len(timeobs)):\n",
    "        #time where observation is different then zero\n",
    "        timetime = timeobs[flare][aflare1(timeobs[flare], df.Tpeak[flare], df.Fwhm[flare], df.Ampl[flare]) > 0]\n",
    "        T = timetime[-1] - timetime[0] \n",
    "        #brightness of flare in bandpass devided by total flare time, to get rid of time unit\n",
    "        brightness.append(tp(aflare1(timeobs[flare], df.Tpeak[flare], df.Fwhm[flare], df.Ampl[flare]))  * 1/T  )\n",
    "        brightnesserror.append(tp(aflare1(timeobs[flare], df.Tpeak[flare], np.max([df.sFwhm[flare],df.sfwhm[flare]]), np.max([df.sAmpl[flare],df.sampl[flare]]))) * 1/T)\n",
    "    i = i + 1 \n",
    "\n",
    "#every second entry belongs to the same flare therefore slice [0::2]\n",
    "brightness = np.asarray(brightness)\n",
    "brightnesserror = np.asarray(brightnesserror)"
   ]
  },
  {
   "cell_type": "code",
   "execution_count": 9,
   "id": "4467fd93",
   "metadata": {},
   "outputs": [
    {
     "data": {
      "text/plain": [
       "array([4.52506984e+02, 1.42712541e+01, 1.51050116e+02, 6.05080978e+00,\n",
       "       1.01800624e+01, 4.24348275e-01, 2.82384713e+00, 5.77041610e-02])"
      ]
     },
     "execution_count": 9,
     "metadata": {},
     "output_type": "execute_result"
    }
   ],
   "source": [
    "brightness"
   ]
  },
  {
   "cell_type": "code",
   "execution_count": 30,
   "id": "8f9540a2",
   "metadata": {},
   "outputs": [],
   "source": [
    "with open(\"../results/values/brightness_flare1.txt\", \"w+\") as f:\n",
    "    f.write(str(brightness[0::2]))\n",
    "    f.write(str(brightnesserror[0::2]))"
   ]
  },
  {
   "cell_type": "code",
   "execution_count": 31,
   "id": "60a51b70",
   "metadata": {},
   "outputs": [],
   "source": [
    "with open(\"../results/values/brightness_flare2.txt\", \"w+\") as f:\n",
    "    f.write(str(brightness[1::2]))\n",
    "    f.write(str(brightnesserror[1::2]))"
   ]
  },
  {
   "cell_type": "code",
   "execution_count": null,
   "id": "176d1169",
   "metadata": {},
   "outputs": [],
   "source": []
  }
 ],
 "metadata": {
  "kernelspec": {
   "display_name": "Python 3",
   "language": "python",
   "name": "python3"
  },
  "language_info": {
   "codemirror_mode": {
    "name": "ipython",
    "version": 3
   },
   "file_extension": ".py",
   "mimetype": "text/x-python",
   "name": "python",
   "nbconvert_exporter": "python",
   "pygments_lexer": "ipython3",
   "version": "3.8.8"
  }
 },
 "nbformat": 4,
 "nbformat_minor": 5
}
