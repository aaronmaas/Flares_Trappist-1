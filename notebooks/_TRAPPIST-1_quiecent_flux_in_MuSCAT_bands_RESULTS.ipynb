{
 "cells": [
  {
   "cell_type": "code",
   "execution_count": 1,
   "id": "8fc2deb9",
   "metadata": {},
   "outputs": [],
   "source": [
    "import numpy as np \n",
    "import matplotlib.pyplot as plt \n",
    "import astropy.units as au\n",
    "import astropy.constants as ca\n"
   ]
  },
  {
   "cell_type": "code",
   "execution_count": 2,
   "id": "8a488294",
   "metadata": {},
   "outputs": [],
   "source": [
    "#Semi empirical model + error for spectrum TRAPPIST-1 from Wilson et al 2021\n",
    "trappist_SED = np.genfromtxt(\"../data/TRAPPIST1_Semimodel_Wilson/TRAPPIST-1_model_const_res_v07.ecsv\", delimiter = \"\")\n",
    "#unit erg A^-1 t^-1 cm^-2 "
   ]
  },
  {
   "cell_type": "code",
   "execution_count": 4,
   "id": "a893be38",
   "metadata": {},
   "outputs": [],
   "source": [
    "flux_TRAP = trappist_SED[:,1]  * au.erg * au.cm**(-2) * au.s**(-1) * au.Angstrom**(-1)\n",
    "#error of semiemprical model is 50% Wilson et al 2021\n",
    "fluxerror_TRAP = (0.5*trappist_SED[:,1])  * au.erg * au.cm**(-2) * au.s**(-1) * au.Angstrom**(-1)\n"
   ]
  },
  {
   "cell_type": "code",
   "execution_count": 5,
   "id": "a2ec2986",
   "metadata": {
    "scrolled": false
   },
   "outputs": [],
   "source": [
    "#Import Muscat filter indices for flux_TRAP\n",
    "\n",
    "iters = [\"g\", \"r\", \"i\", \"z\"]\n",
    "limit = []\n",
    "\n",
    "for i in iters: \n",
    "    #limit are the limits of the passband in wavelength \n",
    "    limit.append(np.load(\"../data/MuSCAT2_response/MuSCAT2_limit_{}.npy\".format(str(i))))\n"
   ]
  },
  {
   "cell_type": "code",
   "execution_count": 6,
   "id": "d423bd7e",
   "metadata": {},
   "outputs": [
    {
     "data": {
      "text/latex": [
       "$[1.5065431 \\times 10^{-13},~4.0466897 \\times 10^{-13},~3.2712824 \\times 10^{-12},~6.7873797 \\times 10^{-12}] \\; \\mathrm{\\frac{erg}{s\\,cm^{2}}}$"
      ],
      "text/plain": [
       "<Quantity [1.50654308e-13, 4.04668968e-13, 3.27128241e-12, 6.78737967e-12] erg / (cm2 s)>"
      ]
     },
     "execution_count": 6,
     "metadata": {},
     "output_type": "execute_result"
    }
   ],
   "source": [
    "#apparent brightness of TRAPPIST-1 in each bandpass at Earth assuming that filter transmission is 100% \n",
    "brightness_TRAP = np.asarray([np.trapz(flux_TRAP[limit[i][0]:limit[i][1]].value) \\\n",
    "                              for i in range(len(iters)) ] ) * au.erg * au.cm**(-2) * au.s**(-1)  \n",
    "brightness_TRAP"
   ]
  },
  {
   "cell_type": "code",
   "execution_count": 18,
   "id": "02d1e035",
   "metadata": {},
   "outputs": [
    {
     "data": {
      "text/latex": [
       "$[2.7342459 \\times 10^{-15},~6.6609584 \\times 10^{-15},~5.8691457 \\times 10^{-14},~1.1283087 \\times 10^{-13}] \\; \\mathrm{\\frac{erg}{s\\,cm^{2}}}$"
      ],
      "text/plain": [
       "<Quantity [2.73424590e-15, 6.66095845e-15, 5.86914570e-14, 1.12830866e-13] erg / (cm2 s)>"
      ]
     },
     "execution_count": 18,
     "metadata": {},
     "output_type": "execute_result"
    }
   ],
   "source": [
    "#apparent brightness error of TRAPPIST-1 in each bandpass at Earth\n",
    "brightnesserror_TRAP = np.asarray([np.sqrt((np.trapz(fluxerror_TRAP[limit[i][0]:limit[i][1]].value**2))) \\\n",
    "                                   for i in range(len(iters)) ] ) * au.erg * au.cm**(-2) * au.s**(-1)  \n",
    "brightnesserror_TRAP"
   ]
  },
  {
   "cell_type": "code",
   "execution_count": 19,
   "id": "a03c65aa",
   "metadata": {},
   "outputs": [
    {
     "data": {
      "text/latex": [
       "$[2.7844613 \\times 10^{20},~7.4792754 \\times 10^{20},~6.0461326 \\times 10^{21},~1.2544743 \\times 10^{22}] \\; \\mathrm{W}$"
      ],
      "text/plain": [
       "<Quantity [2.78446126e+20, 7.47927544e+20, 6.04613256e+21, 1.25447430e+22] W>"
      ]
     },
     "execution_count": 19,
     "metadata": {},
     "output_type": "execute_result"
    }
   ],
   "source": [
    "#Lienhardt et al 2020\n",
    "dist_TRAP = 3.835084e+19 *au.cm \n",
    "#dist_TRAP_error = 0.02 * 3.086e+18 *au.cm\n",
    "\n",
    "lumi_TRAP = brightness_TRAP*(4*np.pi*(dist_TRAP)**2)\n",
    "#lumierror_TRAP = np.sqrt(4*np.pi*(dist_TRAP.value)**2 * brightnesserror_TRAP.value**2 + 8*np.pi*brightness_TRAP.value*dist_TRAP.value*dist_TRAP_error.value**2 ) *au.erg * au.s**(-1)\n",
    "lumi_TRAP.to(\"W\")\n"
   ]
  },
  {
   "cell_type": "code",
   "execution_count": 20,
   "id": "7696729f",
   "metadata": {},
   "outputs": [],
   "source": [
    "with open(\"../results/values/brightness_TRAPPIST-1.txt\", \"w+\") as f:\n",
    "    f.write(\"g , r , i, z \\n\")\n",
    "    f.write(str(brightness_TRAP[0].value)+ ',' +  str(brightness_TRAP[1].value)+ ',' + \\\n",
    "            str(brightness_TRAP[2].value)+ ',' + str(brightness_TRAP[3].value) + '\\n' )\n",
    "    f.write(str(brightnesserror_TRAP[0].value)+ ',' +  str(brightnesserror_TRAP[1].value)+ ',' + \\\n",
    "            str(brightnesserror_TRAP[2].value)+ ',' + str(brightnesserror_TRAP[3].value) )\n",
    "    "
   ]
  },
  {
   "cell_type": "code",
   "execution_count": 21,
   "id": "428ee17f",
   "metadata": {},
   "outputs": [],
   "source": [
    "with open(\"../results/values/lumi_TRAPPIST-1.txt\", \"w+\") as f:\n",
    "    f.write(\"g , r , i, z \\n\")\n",
    "    f.write(str(lumi_TRAP[0].value)+ ',' +  str(lumi_TRAP[1].value)+ ',' + \\\n",
    "            str(lumi_TRAP[2].value)+ ',' + str(lumi_TRAP[3].value) )\n",
    "    "
   ]
  },
  {
   "cell_type": "code",
   "execution_count": null,
   "id": "3081e6bd",
   "metadata": {},
   "outputs": [],
   "source": []
  }
 ],
 "metadata": {
  "kernelspec": {
   "display_name": "Python 3",
   "language": "python",
   "name": "python3"
  },
  "language_info": {
   "codemirror_mode": {
    "name": "ipython",
    "version": 3
   },
   "file_extension": ".py",
   "mimetype": "text/x-python",
   "name": "python",
   "nbconvert_exporter": "python",
   "pygments_lexer": "ipython3",
   "version": "3.8.8"
  }
 },
 "nbformat": 4,
 "nbformat_minor": 5
}
